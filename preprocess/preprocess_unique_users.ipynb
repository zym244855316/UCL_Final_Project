{
 "cells": [
  {
   "cell_type": "code",
   "execution_count": null,
   "metadata": {
    "collapsed": true
   },
   "outputs": [],
   "source": []
  },
  {
   "cell_type": "code",
   "execution_count": null,
   "metadata": {
    "collapsed": true
   },
   "outputs": [],
   "source": [
    "calculate_uniquetweets = config.settings['calculate']['uniquetweets']\n",
    "calculate_uniqueusers = config.settings['calculate']['uniqueusers']\n",
    "calculate_network = config.settings['calculate']['network']\n",
    "calculate_analysis = config.settings['calculate']['analysis']\n",
    "# calculate_friends = config.settings['calculate']['friends']\n",
    "\n",
    "file_input_path = config.settings['path']['twitter']\n",
    "dates = config.settings['data']['dates']\n",
    "search_phrases = config.settings['data']['phrases']\n",
    "timeframe = config.settings['timeframe']\n",
    "project_name = config.settings['data']['eventname']\n",
    "starttime = config.settings['data']['starttime']\n",
    "friends_dictionary = config.load_friends_dictionary()\n",
    "followers_dictionary = config.load_followers_dictionary()"
   ]
  },
  {
   "cell_type": "code",
   "execution_count": null,
   "metadata": {
    "collapsed": true
   },
   "outputs": [],
   "source": []
  },
  {
   "cell_type": "code",
   "execution_count": null,
   "metadata": {
    "collapsed": true
   },
   "outputs": [],
   "source": []
  },
  {
   "cell_type": "code",
   "execution_count": null,
   "metadata": {
    "collapsed": true
   },
   "outputs": [],
   "source": []
  }
 ],
 "metadata": {
  "kernelspec": {
   "display_name": "Python 3",
   "language": "python",
   "name": "python3"
  },
  "language_info": {
   "codemirror_mode": {
    "name": "ipython",
    "version": 3
   },
   "file_extension": ".py",
   "mimetype": "text/x-python",
   "name": "python",
   "nbconvert_exporter": "python",
   "pygments_lexer": "ipython3",
   "version": "3.6.2"
  }
 },
 "nbformat": 4,
 "nbformat_minor": 2
}
