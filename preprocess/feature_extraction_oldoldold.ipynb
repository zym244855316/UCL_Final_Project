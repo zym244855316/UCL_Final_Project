{
 "cells": [
  {
   "cell_type": "code",
   "execution_count": 1,
   "metadata": {},
   "outputs": [
    {
     "name": "stdout",
     "output_type": "stream",
     "text": [
      "/Users/maimai/Desktop/project/May\n"
     ]
    }
   ],
   "source": [
    "%cd /Users/maimai/Desktop/project/May"
   ]
  },
  {
   "cell_type": "code",
   "execution_count": 2,
   "metadata": {},
   "outputs": [
    {
     "name": "stdout",
     "output_type": "stream",
     "text": [
      "('Reading config file from location: '\n",
      " '/Users/maimai/Desktop/project/May/configuration/env.properties')\n",
      "{'calculate': {'analysis': True,\n",
      "               'friends': True,\n",
      "               'network': True,\n",
      "               'uniquetweets': True,\n",
      "               'uniqueusers': True},\n",
      " 'data': {'dates': ['2018-03-11', '2018-03-12', '2018-03-13'],\n",
      "          'eventname': \"Givenchy's Death\",\n",
      "          'phrases': ['givenchy%20death', 'givenchy%20passed%20away'],\n",
      "          'starttime': 'Mar 12 08:20:00 -0500 2018'},\n",
      " 'path': {'cwd': '/Users/maimai/Desktop/project/May/data/givenchy',\n",
      "          'ml': '/Users/maimai/Desktop/project/May/data/givenchy/pickle',\n",
      "          'networkx': {'all': '/Users/maimai/Desktop/project/May/data/givenchy/pickle/networkx_all.dat',\n",
      "                       'friends': '/Users/maimai/Desktop/project/May/data/givenchy/pickle/networkx_friends.dat',\n",
      "                       'potential': '/Users/maimai/Desktop/project/May/data/givenchy/pickle/networkx_potential.dat'},\n",
      "          'newcrawl': '/Users/maimai/Desktop/project/May/other/newcrawl.dat',\n",
      "          'other': '/Users/maimai/Desktop/project/May/other',\n",
      "          'pickle': {'friends': '/Users/maimai/Desktop/project/May/data/givenchy/pickle/friends.dat',\n",
      "                     'needcrawl': '/Users/maimai/Desktop/project/May/data/givenchy/pickle/needcrawl.dat',\n",
      "                     'network': '/Users/maimai/Desktop/project/May/data/givenchy/pickle/network.dat',\n",
      "                     'tweets': '/Users/maimai/Desktop/project/May/data/givenchy/pickle/tweets.dat',\n",
      "                     'users': '/Users/maimai/Desktop/project/May/data/givenchy/pickle/users.dat'},\n",
      "          'result': '/Users/maimai/Desktop/project/May/data/givenchy/result',\n",
      "          'twitter': '/Users/maimai/Desktop/project/May/data/givenchy/twitter'},\n",
      " 'save_to_file': 'False',\n",
      " 'timeframe': '1440'}\n"
     ]
    }
   ],
   "source": [
    "import builtins\n",
    "builtins.uclresearch_topic = 'GIVENCHY'\n",
    "#builtins.uclresearch_topic = 'HAWKING'\n",
    "# builtins.uclresearch_topic = 'NYC'\n",
    "# builtins.uclresearch_topic = 'FLORIDA'\n",
    "from configuration import config"
   ]
  },
  {
   "cell_type": "code",
   "execution_count": 3,
   "metadata": {
    "collapsed": true
   },
   "outputs": [],
   "source": [
    "import networkx as nx\n",
    "from tqdm import tqdm\n",
    "import pandas as pd\n",
    "import numpy as np"
   ]
  },
  {
   "cell_type": "code",
   "execution_count": 4,
   "metadata": {},
   "outputs": [
    {
     "name": "stdout",
     "output_type": "stream",
     "text": [
      "Loading data file from path /Users/maimai/Desktop/project/May/data/givenchy/pickle/users.dat\n",
      "'Loaded 5011 entires'\n",
      "Loading data file from path /Users/maimai/Desktop/project/May/data/givenchy/pickle/networkx_friends.dat\n",
      "'Loaded 5011 entires'\n"
     ]
    }
   ],
   "source": [
    "unique_users = config.load_users_dataframe()\n",
    "network_friends = config.load_networkx_friends()"
   ]
  },
  {
   "cell_type": "code",
   "execution_count": 5,
   "metadata": {},
   "outputs": [
    {
     "data": {
      "text/plain": [
       "Index(['user', 'user_id', 'time_lapsed', 'followers_count', 'friends_count',\n",
       "       'user_created_days', 'user_statuses_count', 'user_listed_count',\n",
       "       'user_favourites_count', 'normalized_user_statuses_count',\n",
       "       'normalized_user_followers_count', 'normalized_user_favourites_count',\n",
       "       'normalized_user_listed_count', 'normalized_user_friends_count',\n",
       "       'mention_and_reply', 'source_candidates', 'source_index', 'seed_index',\n",
       "       'generation', 'time_since_seed'],\n",
       "      dtype='object')"
      ]
     },
     "execution_count": 5,
     "metadata": {},
     "output_type": "execute_result"
    }
   ],
   "source": [
    "unique_users.columns"
   ]
  },
  {
   "cell_type": "markdown",
   "metadata": {},
   "source": [
    "# Settings"
   ]
  },
  {
   "cell_type": "code",
   "execution_count": 6,
   "metadata": {
    "collapsed": true
   },
   "outputs": [],
   "source": [
    "# intervals = [60, 30, 15, 7]\n",
    "intervals = [30]\n",
    "\n",
    "# Helper function for mean value calculation\n",
    "def mean(numbers):\n",
    "    return float(sum(numbers)) / max(len(numbers), 1)"
   ]
  },
  {
   "cell_type": "markdown",
   "metadata": {},
   "source": [
    "# Pre-Calculate features"
   ]
  },
  {
   "cell_type": "code",
   "execution_count": 7,
   "metadata": {},
   "outputs": [
    {
     "name": "stdout",
     "output_type": "stream",
     "text": [
      "CPU times: user 27 µs, sys: 8 µs, total: 35 µs\n",
      "Wall time: 39.3 µs\n"
     ]
    }
   ],
   "source": [
    "%%time\n",
    "# Calculating in and out degrees\n",
    "nodeInDegreeDict = network_friends.in_degree()\n",
    "nodeOutDegreeDict = network_friends.out_degree()"
   ]
  },
  {
   "cell_type": "code",
   "execution_count": 8,
   "metadata": {},
   "outputs": [
    {
     "name": "stdout",
     "output_type": "stream",
     "text": [
      "CPU times: user 5 µs, sys: 0 ns, total: 5 µs\n",
      "Wall time: 8.82 µs\n"
     ]
    }
   ],
   "source": [
    "%%time\n",
    "convert_dictionary_to_sorted_list = lambda x: [x[a] for a in sorted(x)]"
   ]
  },
  {
   "cell_type": "markdown",
   "metadata": {},
   "source": [
    "Assortativity [https://networkx.github.io/documentation/networkx-1.9.1/reference/algorithms.assortativity.html]"
   ]
  },
  {
   "cell_type": "code",
   "execution_count": 9,
   "metadata": {},
   "outputs": [
    {
     "name": "stdout",
     "output_type": "stream",
     "text": [
      "CPU times: user 59.9 ms, sys: 2.03 ms, total: 61.9 ms\n",
      "Wall time: 60.9 ms\n"
     ]
    }
   ],
   "source": [
    "%%time\n",
    "average_neighbor_degree = convert_dictionary_to_sorted_list(nx.average_neighbor_degree(network_friends))"
   ]
  },
  {
   "cell_type": "markdown",
   "metadata": {},
   "source": [
    "Centrality [https://networkx.github.io/documentation/networkx-1.9.1/reference/algorithms.centrality.html]"
   ]
  },
  {
   "cell_type": "code",
   "execution_count": 10,
   "metadata": {},
   "outputs": [
    {
     "name": "stdout",
     "output_type": "stream",
     "text": [
      "CPU times: user 5.08 ms, sys: 406 µs, total: 5.48 ms\n",
      "Wall time: 5.18 ms\n"
     ]
    }
   ],
   "source": [
    "%%time\n",
    "degree_centrality = convert_dictionary_to_sorted_list(nx.degree_centrality(network_friends))"
   ]
  },
  {
   "cell_type": "code",
   "execution_count": 11,
   "metadata": {},
   "outputs": [
    {
     "name": "stdout",
     "output_type": "stream",
     "text": [
      "CPU times: user 4.4 ms, sys: 806 µs, total: 5.21 ms\n",
      "Wall time: 4.58 ms\n"
     ]
    }
   ],
   "source": [
    "%%time\n",
    "in_degree_centrality = convert_dictionary_to_sorted_list(nx.in_degree_centrality(network_friends))"
   ]
  },
  {
   "cell_type": "code",
   "execution_count": 12,
   "metadata": {},
   "outputs": [
    {
     "name": "stdout",
     "output_type": "stream",
     "text": [
      "CPU times: user 3.85 ms, sys: 27 µs, total: 3.88 ms\n",
      "Wall time: 3.92 ms\n"
     ]
    }
   ],
   "source": [
    "%%time\n",
    "out_degree_centrality = convert_dictionary_to_sorted_list(nx.out_degree_centrality(network_friends))"
   ]
  },
  {
   "cell_type": "code",
   "execution_count": 13,
   "metadata": {
    "collapsed": true
   },
   "outputs": [],
   "source": [
    "# Too slow\n",
    "# %%time\n",
    "# closeness_centrality = convert_dictionary_to_sorted_list(nx.closeness_centrality(network_friends))"
   ]
  },
  {
   "cell_type": "code",
   "execution_count": 14,
   "metadata": {
    "collapsed": true
   },
   "outputs": [],
   "source": [
    "# Too slow\n",
    "# %%time\n",
    "# betweenness_centrality = convert_dictionary_to_sorted_list(nx.betweenness_centrality(network_friends))"
   ]
  },
  {
   "cell_type": "code",
   "execution_count": 15,
   "metadata": {},
   "outputs": [
    {
     "name": "stdout",
     "output_type": "stream",
     "text": [
      "CPU times: user 1.91 s, sys: 21.4 ms, total: 1.93 s\n",
      "Wall time: 1.95 s\n"
     ]
    }
   ],
   "source": [
    "%%time\n",
    "eigenvector_centrality = convert_dictionary_to_sorted_list(nx.eigenvector_centrality(network_friends))"
   ]
  },
  {
   "cell_type": "markdown",
   "metadata": {},
   "source": [
    "# Feature Extraction"
   ]
  },
  {
   "cell_type": "code",
   "execution_count": 16,
   "metadata": {},
   "outputs": [
    {
     "name": "stderr",
     "output_type": "stream",
     "text": [
      "  1%|          | 48/5011 [00:18<31:28,  2.63it/s]\n"
     ]
    },
    {
     "ename": "KeyboardInterrupt",
     "evalue": "",
     "output_type": "error",
     "traceback": [
      "\u001b[0;31m---------------------------------------------------------------------------\u001b[0m",
      "\u001b[0;31mKeyboardInterrupt\u001b[0m                         Traceback (most recent call last)",
      "\u001b[0;32m<ipython-input-16-4500caec974f>\u001b[0m in \u001b[0;36m<module>\u001b[0;34m()\u001b[0m\n\u001b[1;32m    244\u001b[0m \u001b[0;34m\u001b[0m\u001b[0m\n\u001b[1;32m    245\u001b[0m \u001b[0;32mfor\u001b[0m \u001b[0minterval\u001b[0m \u001b[0;32min\u001b[0m \u001b[0mintervals\u001b[0m\u001b[0;34m:\u001b[0m\u001b[0;34m\u001b[0m\u001b[0m\n\u001b[0;32m--> 246\u001b[0;31m     \u001b[0mdf\u001b[0m \u001b[0;34m=\u001b[0m \u001b[0mprocess_data\u001b[0m\u001b[0;34m(\u001b[0m\u001b[0minterval\u001b[0m\u001b[0;34m)\u001b[0m\u001b[0;34m\u001b[0m\u001b[0m\n\u001b[0m\u001b[1;32m    247\u001b[0m     \u001b[0mprint\u001b[0m\u001b[0;34m(\u001b[0m\u001b[0mdf\u001b[0m\u001b[0;34m.\u001b[0m\u001b[0mhead\u001b[0m\u001b[0;34m(\u001b[0m\u001b[0;34m)\u001b[0m\u001b[0;34m)\u001b[0m\u001b[0;34m\u001b[0m\u001b[0m\n\u001b[1;32m    248\u001b[0m     \u001b[0mconfig\u001b[0m\u001b[0;34m.\u001b[0m\u001b[0mdump_ml_data\u001b[0m\u001b[0;34m(\u001b[0m\u001b[0mdf\u001b[0m\u001b[0;34m,\u001b[0m \u001b[0minterval\u001b[0m\u001b[0;34m)\u001b[0m\u001b[0;34m\u001b[0m\u001b[0m\n",
      "\u001b[0;32m<ipython-input-16-4500caec974f>\u001b[0m in \u001b[0;36mprocess_data\u001b[0;34m(interval)\u001b[0m\n\u001b[1;32m     86\u001b[0m                     \u001b[0msources_dataframe\u001b[0m \u001b[0;34m=\u001b[0m \u001b[0munique_users\u001b[0m\u001b[0;34m.\u001b[0m\u001b[0miloc\u001b[0m\u001b[0;34m[\u001b[0m\u001b[0msources\u001b[0m\u001b[0;34m]\u001b[0m\u001b[0;34m\u001b[0m\u001b[0m\n\u001b[1;32m     87\u001b[0m \u001b[0;34m\u001b[0m\u001b[0m\n\u001b[0;32m---> 88\u001b[0;31m                     \u001b[0maverageNeighborDegreeList\u001b[0m \u001b[0;34m=\u001b[0m \u001b[0mlist\u001b[0m\u001b[0;34m(\u001b[0m\u001b[0maverage_neighbor_degree\u001b[0m\u001b[0;34m[\u001b[0m\u001b[0mi\u001b[0m\u001b[0;34m]\u001b[0m \u001b[0;32mfor\u001b[0m \u001b[0mi\u001b[0m \u001b[0;32min\u001b[0m \u001b[0msources\u001b[0m\u001b[0;34m)\u001b[0m\u001b[0;34m\u001b[0m\u001b[0m\n\u001b[0m\u001b[1;32m     89\u001b[0m                     \u001b[0mdegreeCentralityList\u001b[0m \u001b[0;34m=\u001b[0m \u001b[0mlist\u001b[0m\u001b[0;34m(\u001b[0m\u001b[0mdegree_centrality\u001b[0m\u001b[0;34m[\u001b[0m\u001b[0mi\u001b[0m\u001b[0;34m]\u001b[0m \u001b[0;32mfor\u001b[0m \u001b[0mi\u001b[0m \u001b[0;32min\u001b[0m \u001b[0msources\u001b[0m\u001b[0;34m)\u001b[0m\u001b[0;34m\u001b[0m\u001b[0m\n\u001b[1;32m     90\u001b[0m                     \u001b[0minDegreeCentralityList\u001b[0m \u001b[0;34m=\u001b[0m \u001b[0mlist\u001b[0m\u001b[0;34m(\u001b[0m\u001b[0min_degree_centrality\u001b[0m\u001b[0;34m[\u001b[0m\u001b[0mi\u001b[0m\u001b[0;34m]\u001b[0m \u001b[0;32mfor\u001b[0m \u001b[0mi\u001b[0m \u001b[0;32min\u001b[0m \u001b[0msources\u001b[0m\u001b[0;34m)\u001b[0m\u001b[0;34m\u001b[0m\u001b[0m\n",
      "\u001b[0;32m<ipython-input-16-4500caec974f>\u001b[0m in \u001b[0;36m<genexpr>\u001b[0;34m(.0)\u001b[0m\n\u001b[1;32m     86\u001b[0m                     \u001b[0msources_dataframe\u001b[0m \u001b[0;34m=\u001b[0m \u001b[0munique_users\u001b[0m\u001b[0;34m.\u001b[0m\u001b[0miloc\u001b[0m\u001b[0;34m[\u001b[0m\u001b[0msources\u001b[0m\u001b[0;34m]\u001b[0m\u001b[0;34m\u001b[0m\u001b[0m\n\u001b[1;32m     87\u001b[0m \u001b[0;34m\u001b[0m\u001b[0m\n\u001b[0;32m---> 88\u001b[0;31m                     \u001b[0maverageNeighborDegreeList\u001b[0m \u001b[0;34m=\u001b[0m \u001b[0mlist\u001b[0m\u001b[0;34m(\u001b[0m\u001b[0maverage_neighbor_degree\u001b[0m\u001b[0;34m[\u001b[0m\u001b[0mi\u001b[0m\u001b[0;34m]\u001b[0m \u001b[0;32mfor\u001b[0m \u001b[0mi\u001b[0m \u001b[0;32min\u001b[0m \u001b[0msources\u001b[0m\u001b[0;34m)\u001b[0m\u001b[0;34m\u001b[0m\u001b[0m\n\u001b[0m\u001b[1;32m     89\u001b[0m                     \u001b[0mdegreeCentralityList\u001b[0m \u001b[0;34m=\u001b[0m \u001b[0mlist\u001b[0m\u001b[0;34m(\u001b[0m\u001b[0mdegree_centrality\u001b[0m\u001b[0;34m[\u001b[0m\u001b[0mi\u001b[0m\u001b[0;34m]\u001b[0m \u001b[0;32mfor\u001b[0m \u001b[0mi\u001b[0m \u001b[0;32min\u001b[0m \u001b[0msources\u001b[0m\u001b[0;34m)\u001b[0m\u001b[0;34m\u001b[0m\u001b[0m\n\u001b[1;32m     90\u001b[0m                     \u001b[0minDegreeCentralityList\u001b[0m \u001b[0;34m=\u001b[0m \u001b[0mlist\u001b[0m\u001b[0;34m(\u001b[0m\u001b[0min_degree_centrality\u001b[0m\u001b[0;34m[\u001b[0m\u001b[0mi\u001b[0m\u001b[0;34m]\u001b[0m \u001b[0;32mfor\u001b[0m \u001b[0mi\u001b[0m \u001b[0;32min\u001b[0m \u001b[0msources\u001b[0m\u001b[0;34m)\u001b[0m\u001b[0;34m\u001b[0m\u001b[0m\n",
      "\u001b[0;31mKeyboardInterrupt\u001b[0m: "
     ]
    }
   ],
   "source": [
    "def process_data(interval):\n",
    "    # Prepare dataframe\n",
    "    processed_dataframe = pd.DataFrame() #columns=parametersVector\n",
    "#     # Order the columns\n",
    "#     processed_dataframe = processed_dataframe[parametersVector]\n",
    "\n",
    "    with tqdm(total=len(list(unique_users.iterrows()))) as pbar: \n",
    "        for index, user_row in unique_users.iterrows():\n",
    "            if user_row['source_index'] is not None:\n",
    "                source_candidates = user_row['source_candidates']\n",
    "                source_first = source_candidates[0]\n",
    "                source_first_row = unique_users.iloc[source_first]\n",
    "                source_first_time_lapsed = source_first_row.time_lapsed\n",
    "                start_bar = int(source_first_time_lapsed / interval) + 1                \n",
    "                \n",
    "                \n",
    "                label = []\n",
    "                t0 = []\n",
    "                t_1 = []\n",
    "                kIn = []\n",
    "                kOut0 = []\n",
    "                kOut_1 = []                \n",
    "                nNodes = []\n",
    "\n",
    "                averageNeighborDegree0 = average_neighbor_degree[source_first]\n",
    "                degreeCentrality0 = degree_centrality[source_first]\n",
    "                inDegreeCentrality0 = in_degree_centrality[source_first]\n",
    "                outDegreeCentrality0 = out_degree_centrality[source_first]\n",
    "#                 closenessCentrality0 = closeness_centrality[source_first]\n",
    "#                 betweennessCentrality0 = betweenness_centrality[source_first]\n",
    "                eigenvectorCentrality0 = eigenvector_centrality[source_first]\n",
    "                averageNeighborDegree_1 = []\n",
    "                degreeCentrality_1 = []\n",
    "                inDegreeCentrality_1 = []\n",
    "                outDegreeCentrality_1 = []\n",
    "                closenessCentrality_1 = []\n",
    "                betweennessCentrality_1 = []\n",
    "                eigenvectorCentrality_1 = []\n",
    "                \n",
    "                UsM_deltaDays0 = source_first_row.user_created_days\n",
    "                UsM_statusesCount0 = source_first_row.user_statuses_count\n",
    "                UsM_followersCount0 = source_first_row.followers_count\n",
    "                UsM_favouritesCount0 = source_first_row.user_favourites_count\n",
    "                UsM_friendsCount0 = source_first_row.friends_count\n",
    "                UsM_listedCount0 = source_first_row.user_listed_count\n",
    "                UsM_normalizedUserStatusesCount0 = source_first_row.normalized_user_statuses_count\n",
    "                UsM_normalizedUserFollowersCount0 = source_first_row.normalized_user_followers_count\n",
    "                UsM_normalizedUserFavouritesCount0 = source_first_row.normalized_user_favourites_count\n",
    "                UsM_normalizedUserListedCount0 = source_first_row.normalized_user_listed_count\n",
    "                UsM_normalizedUserFriendsCount0 = source_first_row.normalized_user_friends_count\n",
    "                UsM_deltaDays_1 = []\n",
    "                UsM_statusesCount_1 = []\n",
    "                UsM_followersCount_1 = []\n",
    "                UsM_favouritesCount_1 = []\n",
    "                UsM_friendsCount_1 = []\n",
    "                UsM_listedCount_1 = []\n",
    "                UsM_normalizedUserStatusesCount_1 = []\n",
    "                UsM_normalizedUserFollowersCount_1 = []\n",
    "                UsM_normalizedUserFavouritesCount_1 = []\n",
    "                UsM_normalizedUserListedCount_1 = []\n",
    "                UsM_normalizedUserFriendsCount_1 = []\n",
    "                \n",
    "                # Stat\n",
    "                kOutAverage = []\n",
    "                tAverage = []\n",
    "                Stat_average_deltaDays = []\n",
    "                Stat_average_statusesCount = []\n",
    "                Stat_average_followersCount = []\n",
    "                Stat_average_favouritesCount = []\n",
    "                Stat_average_friendsCount = []\n",
    "                Stat_average_listedCount = []\n",
    "                Stat_average_normalizedUserStatusesCount = []\n",
    "                Stat_average_normalizedUserFollowersCount = []\n",
    "                Stat_average_normalizedUserFavouritesCount = []\n",
    "                Stat_average_normalizedUserListedCount = []\n",
    "                Stat_average_normalizedUserFriendsCount = []\n",
    "                kOutMax = []\n",
    "                kOutMin = []\n",
    "                \n",
    "\n",
    "                bars = list(np.arange(start_bar * interval, 24 * 60, interval))\n",
    "\n",
    "                for current_time in bars:\n",
    "                    # all sources up to the current time\n",
    "                    sources = [x for x in source_candidates if unique_users.iloc[x].time_lapsed <= current_time]\n",
    "                    sources_dataframe = unique_users.iloc[sources]\n",
    "                    \n",
    "                    averageNeighborDegreeList = list(average_neighbor_degree[i] for i in sources)\n",
    "                    degreeCentralityList = list(degree_centrality[i] for i in sources)\n",
    "                    inDegreeCentralityList = list(in_degree_centrality[i] for i in sources)\n",
    "                    outDegreeCentralityList = list(out_degree_centrality[i] for i in sources)\n",
    "#                     closenessCentralityList = list(closeness_centrality[i] for i in sources)\n",
    "#                     betweennessCentralityList = list(betweenness_centrality[i] for i in sources)\n",
    "                    eigenvectorCentralityList = list(eigenvector_centrality[i] for i in sources)\n",
    "                    \n",
    "                    degreeList = [nodeOutDegreeDict[x] for x in sources]\n",
    "                    timeList = [current_time - unique_users.iloc[x].time_lapsed for x in sources]\n",
    "                    \n",
    "                    first_source_index = sources[0]\n",
    "                    first_source_row = unique_users.iloc[first_source_index]\n",
    "                    last_source_index = sources[-1]\n",
    "                    last_source_row = unique_users.iloc[last_source_index]\n",
    "\n",
    "                    label.append(int(current_time >= user_row['time_lapsed']))\n",
    "                    t0.append(round(timeList[0], 1))\n",
    "                    t_1.append(round(timeList[-1], 1))\n",
    "                    kIn.append(nodeInDegreeDict[index])\n",
    "                    kOut0.append(nodeOutDegreeDict[first_source_index])\n",
    "                    kOut_1.append(nodeOutDegreeDict[last_source_index])\n",
    "                    nNodes.append(len(sources))\n",
    "\n",
    "                    averageNeighborDegree_1.append(average_neighbor_degree[last_source_index])\n",
    "                    degreeCentrality_1.append(degree_centrality[last_source_index])\n",
    "                    inDegreeCentrality_1.append(in_degree_centrality[last_source_index])\n",
    "                    outDegreeCentrality_1.append(out_degree_centrality[last_source_index])\n",
    "#                     closenessCentrality_1.append(closeness_centrality[last_source_index])\n",
    "#                     betweennessCentrality_1.append(betweenness_centrality[last_source_index])\n",
    "                    eigenvectorCentrality_1.append(eigenvector_centrality[last_source_index])\n",
    "\n",
    "                    UsM_deltaDays_1.append(last_source_row.user_created_days)\n",
    "                    UsM_statusesCount_1.append(last_source_row.user_statuses_count)\n",
    "                    UsM_followersCount_1.append(last_source_row.followers_count)\n",
    "                    UsM_favouritesCount_1.append(last_source_row.user_favourites_count)\n",
    "                    UsM_friendsCount_1.append(last_source_row.friends_count)\n",
    "                    UsM_listedCount_1.append(last_source_row.user_listed_count)\n",
    "                    UsM_normalizedUserStatusesCount_1.append(last_source_row.normalized_user_statuses_count)\n",
    "                    UsM_normalizedUserFollowersCount_1.append(last_source_row.normalized_user_followers_count)\n",
    "                    UsM_normalizedUserFavouritesCount_1.append(last_source_row.normalized_user_favourites_count)\n",
    "                    UsM_normalizedUserListedCount_1.append(last_source_row.normalized_user_listed_count)\n",
    "                    UsM_normalizedUserFriendsCount_1.append(last_source_row.normalized_user_friends_count)\n",
    "                    \n",
    "                    # Stat\n",
    "                    kOutAverage.append(round(mean(degreeList), 1))\n",
    "                    tAverage.append(round(mean(timeList), 1))\n",
    "                    Stat_average_deltaDays.append(sources_dataframe.user_created_days.mean())\n",
    "                    Stat_average_statusesCount.append(sources_dataframe.user_statuses_count.mean())\n",
    "                    Stat_average_followersCount.append(sources_dataframe.followers_count.mean())\n",
    "                    Stat_average_favouritesCount.append(sources_dataframe.user_favourites_count.mean())\n",
    "                    Stat_average_friendsCount.append(sources_dataframe.friends_count.mean())\n",
    "                    Stat_average_listedCount.append(sources_dataframe.user_listed_count.mean())\n",
    "                    Stat_average_normalizedUserStatusesCount.append(sources_dataframe.normalized_user_statuses_count.mean())\n",
    "                    Stat_average_normalizedUserFollowersCount.append(sources_dataframe.normalized_user_followers_count.mean())\n",
    "                    Stat_average_normalizedUserFavouritesCount.append(sources_dataframe.normalized_user_favourites_count.mean())\n",
    "                    Stat_average_normalizedUserListedCount.append(sources_dataframe.normalized_user_listed_count.mean())\n",
    "                    Stat_average_normalizedUserFriendsCount.append(sources_dataframe.normalized_user_friends_count.mean())\n",
    "                    kOutMax.append(max(degreeList))\n",
    "                    kOutMin.append(min(degreeList))\n",
    "                    \n",
    "                # UsM: User metadata\n",
    "                # TwM: Tweet metadata\n",
    "                # Ling: linguistic\n",
    "                # Nw: Network\n",
    "                # Stat: Statistical\n",
    "                # Txt: Texual\n",
    "                # Vis: Visual\n",
    "                processed_dataframe = processed_dataframe.append(pd.DataFrame({\n",
    "                    'label': label,\n",
    "                    \n",
    "                    # UsM\n",
    "                    'UsM_deltaDays': user_row['user_created_days'],\n",
    "                    'UsM_statusesCount': user_row['user_statuses_count'],\n",
    "                    'UsM_followersCount': user_row['followers_count'],\n",
    "                    'UsM_favouritesCount': user_row['user_favourites_count'], \n",
    "                    'UsM_friendsCount': user_row['friends_count'], \n",
    "                    'UsM_listedCount': user_row['user_listed_count'],\n",
    "                    'UsM_normalizedUserStatusesCount': user_row['normalized_user_statuses_count'],\n",
    "                    'UsM_normalizedUserFollowersCount': user_row['normalized_user_followers_count'],\n",
    "                    'UsM_normalizedUserFavouritesCount': user_row['normalized_user_favourites_count'],\n",
    "                    'UsM_normalizedUserListedCount': user_row['normalized_user_listed_count'],\n",
    "                    'UsM_normalizedUserFriendsCount': user_row['normalized_user_friends_count'],                    \n",
    "                    'UsM_deltaDays0': UsM_deltaDays0,\n",
    "                    'UsM_statusesCount0': UsM_statusesCount0,\n",
    "                    'UsM_followersCount0': UsM_followersCount0,\n",
    "                    'UsM_favouritesCount0': UsM_favouritesCount0,\n",
    "                    'UsM_friendsCount0': UsM_friendsCount0,\n",
    "                    'UsM_listedCount0': UsM_listedCount0,\n",
    "                    'UsM_normalizedUserStatusesCount0': UsM_normalizedUserStatusesCount0,\n",
    "                    'UsM_normalizedUserFollowersCount0': UsM_normalizedUserFollowersCount0,\n",
    "                    'UsM_normalizedUserFavouritesCount0': UsM_normalizedUserFavouritesCount0,\n",
    "                    'UsM_normalizedUserListedCount0': UsM_normalizedUserListedCount0,\n",
    "                    'UsM_normalizedUserFriendsCount0': UsM_normalizedUserFriendsCount0,\n",
    "                    'UsM_deltaDays-1': UsM_deltaDays_1,\n",
    "                    'UsM_statusesCount-1': UsM_statusesCount_1,\n",
    "                    'UsM_followersCount-1': UsM_followersCount_1,\n",
    "                    'UsM_favouritesCount-1': UsM_favouritesCount_1,\n",
    "                    'UsM_friendsCount-1': UsM_friendsCount_1,\n",
    "                    'UsM_listedCount-1': UsM_listedCount_1,\n",
    "                    'UsM_normalizedUserStatusesCount-1': UsM_normalizedUserStatusesCount_1,\n",
    "                    'UsM_normalizedUserFollowersCount-1': UsM_normalizedUserFollowersCount_1,\n",
    "                    'UsM_normalizedUserFavouritesCount-1': UsM_normalizedUserFavouritesCount_1,\n",
    "                    'UsM_normalizedUserListedCount-1': UsM_normalizedUserListedCount_1,\n",
    "                    'UsM_normalizedUserFriendsCount-1': UsM_normalizedUserFriendsCount_1,\n",
    "                    # TwM: Tweet metadata\n",
    "                    'TwM_t0': t0,\n",
    "                    'TwM_t-1': t_1,\n",
    "                    'TwM_tCurrent': bars,\n",
    "                    \n",
    "                    # Nw\n",
    "#                     'Nw_kIn': kIn,\n",
    "#                     'Nw_kOut0': kOut0,\n",
    "#                     'Nw_kOut-1': kOut_1,\n",
    "                    'Nw_nNodes': nNodes,\n",
    "                    'Nw_averageNeighborDegree': average_neighbor_degree[index],\n",
    "                    'Nw_degreeCentrality': degree_centrality[index],\n",
    "                    'Nw_inDegreeCentrality': in_degree_centrality[index],\n",
    "                    'Nw_outDegreeCentrality': out_degree_centrality[index],\n",
    "#                     'Nw_closenessCentrality': closeness_centrality[index],\n",
    "#                     'Nw_betweennessCentrality': betweenness_centrality[index],\n",
    "                    'Nw_eigenvectorCentrality': eigenvector_centrality[index],\n",
    "                    'Nw_averageNeighborDegree0': averageNeighborDegree0,\n",
    "                    'Nw_degreeCentrality0': degreeCentrality0,\n",
    "                    'Nw_inDegreeCentrality0': inDegreeCentrality0,\n",
    "                    'Nw_outDegreeCentrality0': outDegreeCentrality0,\n",
    "#                     'Nw_closenessCentrality0': closenessCentrality0,\n",
    "#                     'Nw_betweennessCentrality0': betweennessCentrality0,\n",
    "                    'Nw_eigenvectorCentrality0': eigenvectorCentrality0,\n",
    "                    'Nw_averageNeighborDegree-1': averageNeighborDegree_1,\n",
    "                    'Nw_degreeCentrality-1': degreeCentrality_1,\n",
    "                    'Nw_inDegreeCentrality-1': inDegreeCentrality_1,\n",
    "                    'Nw_outDegreeCentrality-1': outDegreeCentrality_1,\n",
    "#                     'Nw_closenessCentrality-1': closenessCentrality_1,\n",
    "#                     'Nw_betweennessCentrality-1': betweennessCentrality_1,\n",
    "                    'Nw_eigenvectorCentrality-1': eigenvectorCentrality_1,\n",
    "                    \n",
    "                    # Stat\n",
    "                    'Stat_average_kOut': kOutAverage,\n",
    "                    'Stat_average_t': tAverage,\n",
    "                    'Stat_average_deltaDays': Stat_average_deltaDays,\n",
    "                    'Stat_average_statusesCount': Stat_average_statusesCount,\n",
    "                    'Stat_average_followersCount': Stat_average_followersCount,\n",
    "                    'Stat_average_favouritesCount': Stat_average_favouritesCount,\n",
    "                    'Stat_average_friendsCount': Stat_average_friendsCount,\n",
    "                    'Stat_average_listedCount': Stat_average_listedCount,\n",
    "                    'Stat_average_normalizedUserStatusesCount': Stat_average_normalizedUserStatusesCount,\n",
    "                    'Stat_average_normalizedUserFollowersCount': Stat_average_normalizedUserFollowersCount,\n",
    "                    'Stat_average_normalizedUserFavouritesCount': Stat_average_normalizedUserFavouritesCount,\n",
    "                    'Stat_average_normalizedUserListedCount': Stat_average_normalizedUserListedCount,\n",
    "                    'Stat_average_normalizedUserFriendsCount': Stat_average_normalizedUserFriendsCount,                    \n",
    "                    'Stat_max_kOut': kOutMax,\n",
    "                    'Stat_min_kOut': kOutMin\n",
    "                    }))\n",
    "            pbar.update(1)\n",
    "    return processed_dataframe\n",
    "\n",
    "for interval in intervals:\n",
    "    df = process_data(interval)\n",
    "    print(df.head())\n",
    "    config.dump_ml_data(df, interval)"
   ]
  }
 ],
 "metadata": {
  "kernelspec": {
   "display_name": "Python 3",
   "language": "python",
   "name": "python3"
  },
  "language_info": {
   "codemirror_mode": {
    "name": "ipython",
    "version": 3
   },
   "file_extension": ".py",
   "mimetype": "text/x-python",
   "name": "python",
   "nbconvert_exporter": "python",
   "pygments_lexer": "ipython3",
   "version": "3.6.2"
  }
 },
 "nbformat": 4,
 "nbformat_minor": 2
}
