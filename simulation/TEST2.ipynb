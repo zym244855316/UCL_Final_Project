{
 "cells": [
  {
   "cell_type": "code",
   "execution_count": 1,
   "metadata": {},
   "outputs": [
    {
     "name": "stdout",
     "output_type": "stream",
     "text": [
      "/home/ec2-user\n"
     ]
    }
   ],
   "source": [
    "%cd .."
   ]
  },
  {
   "cell_type": "code",
   "execution_count": 2,
   "metadata": {},
   "outputs": [
    {
     "name": "stderr",
     "output_type": "stream",
     "text": [
      "/home/ec2-user/miniconda3/lib/python3.6/importlib/_bootstrap.py:219: RuntimeWarning: numpy.dtype size changed, may indicate binary incompatibility. Expected 96, got 88\n",
      "  return f(*args, **kwds)\n",
      "/home/ec2-user/miniconda3/lib/python3.6/importlib/_bootstrap.py:219: RuntimeWarning: numpy.dtype size changed, may indicate binary incompatibility. Expected 96, got 88\n",
      "  return f(*args, **kwds)\n"
     ]
    }
   ],
   "source": [
    "import builtins\n",
    "builtins.uclresearch_topic = 'GIVENCHY'\n",
    "# builtins.uclresearch_topic = 'HAWKING'\n",
    "# builtins.uclresearch_topic = 'NYC'\n",
    "# builtins.uclresearch_topic = 'FLORIDA'\n",
    "\n",
    "\n",
    "\n",
    "from tqdm import tqdm\n",
    "import os\n",
    "import pickle\n",
    "import math\n",
    "import numpy as np\n",
    "import networkx as nx\n",
    "import pandas as pd\n",
    "from collections import Counter\n",
    "import operator\n",
    "\n",
    "# Plotting\n",
    "import matplotlib\n",
    "# # matplotlib.use('Agg')\n",
    "import matplotlib.pyplot as plt\n",
    "import matplotlib.patches as mpatches\n",
    "import seaborn as sns\n",
    "\n",
    "# Networkx\n",
    "import networkx as nx\n",
    "\n",
    "\n"
   ]
  },
  {
   "cell_type": "code",
   "execution_count": 3,
   "metadata": {},
   "outputs": [],
   "source": [
    "n_bytes = 2**31\n",
    "max_bytes = 2**31 - 1\n",
    "\n",
    "path = \"/home/ec2-user/May/data/givenchy/pickle\"  \n",
    "\n",
    "def write_to_pickle(file_path, data):\n",
    "\n",
    "    bytes_out = pickle.dumps(data)\n",
    "    with open(file_path, 'wb') as f_out:\n",
    "        for idx in range(0, n_bytes, max_bytes):\n",
    "            f_out.write(bytes_out[idx:idx+max_bytes])\n",
    "\n",
    "def load_pickle(file_path):\n",
    "    bytes_in = bytearray(0)\n",
    "    input_size = os.path.getsize(file_path)\n",
    "    with open(file_path, 'rb') as f_in:\n",
    "        for _ in range(0, input_size, max_bytes):\n",
    "            bytes_in += f_in.read(max_bytes)\n",
    "    return pickle.loads(bytes_in)\n",
    "\n"
   ]
  },
  {
   "cell_type": "code",
   "execution_count": 10,
   "metadata": {},
   "outputs": [],
   "source": [
    "x=[0,1,2,3,4,5,6,7,8,9,10,11]\n",
    "users=load_pickle(path+'/Stanford_features.pkl')"
   ]
  },
  {
   "cell_type": "code",
   "execution_count": 12,
   "metadata": {},
   "outputs": [
    {
     "data": {
      "text/plain": [
       "54480"
      ]
     },
     "execution_count": 12,
     "metadata": {},
     "output_type": "execute_result"
    }
   ],
   "source": [
    "active_mid = load_pickle(path+'/Stanford_network_simulation_active_mid.pkl')\n",
    "len(active_mid[active_mid.generations.isin(x)])\n",
    "# active_mid.time_lapsed.unique()"
   ]
  },
  {
   "cell_type": "code",
   "execution_count": 8,
   "metadata": {},
   "outputs": [
    {
     "data": {
      "text/plain": [
       "34404"
      ]
     },
     "execution_count": 8,
     "metadata": {},
     "output_type": "execute_result"
    }
   ],
   "source": [
    "dynamic = load_pickle(path+'/Stanford_network_simulation_Dynamic.pkl')\n",
    "# dynamic[\"statusesCount\"]=users[\"UsM_statusesCount\"]\n",
    "len(dynamic[dynamic.time_lapsed.isin(x)])\n",
    "# dynamic[dynamic.generations.isin([0])]"
   ]
  },
  {
   "cell_type": "code",
   "execution_count": 9,
   "metadata": {},
   "outputs": [
    {
     "data": {
      "text/plain": [
       "38090"
      ]
     },
     "execution_count": 9,
     "metadata": {},
     "output_type": "execute_result"
    }
   ],
   "source": [
    "combined = load_pickle(path+'/Stanford_network_simulation_Combined.pkl')\n",
    "# combined[\"statusesCount\"]=users[\"UsM_statusesCount\"]\n",
    "len(combined[combined.time_lapsed.isin(x)])\n",
    "# combined[combined.generations.isin([0])]"
   ]
  },
  {
   "cell_type": "code",
   "execution_count": null,
   "metadata": {},
   "outputs": [],
   "source": []
  },
  {
   "cell_type": "code",
   "execution_count": 6,
   "metadata": {},
   "outputs": [],
   "source": [
    "\n",
    "# users = load_pickle(path+'/users.dat')"
   ]
  },
  {
   "cell_type": "code",
   "execution_count": 7,
   "metadata": {},
   "outputs": [],
   "source": [
    "# unique_users = load_pickle(path+'/Stanford_network_simulation_a.pkl')\n",
    "# users"
   ]
  },
  {
   "cell_type": "code",
   "execution_count": 8,
   "metadata": {},
   "outputs": [],
   "source": [
    "# unique_users['user']=users['screen_name']\n",
    "# unique_users['source_index'] = None\n",
    "# for i in range(len(unique_users)):\n",
    "#     source_id = unique_users.loc[i,'source_id']\n",
    "#     source_index = unique_users[unique_users.user_id.isin([source_id])].index.values\n",
    "# #     print(source_index)\n",
    "#     if len(source_index) != False:\n",
    "#         unique_users.loc[i,'source_index']=int(source_index)\n",
    "#         unique_users.loc[i,'time_since_seed']=unique_users.loc[i,'time_lapsed']-unique_users.loc[int(source_index),'time_lapsed']\n",
    "        \n",
    "# unique_users\n"
   ]
  },
  {
   "cell_type": "code",
   "execution_count": 9,
   "metadata": {},
   "outputs": [],
   "source": [
    "# network_all = nx.DiGraph()\n",
    "# for i in tqdm(range(len(unique_users))):\n",
    "#     index = unique_users.index[i]\n",
    "#     network_all.add_node(index,\n",
    "#                          user = unique_users.loc[index, 'user'],\n",
    "#                          user_id = unique_users.loc[index, 'user_id'],\n",
    "#                          time_lapsed = unique_users.loc[index, 'time_lapsed'],\n",
    "#                          followers_count = unique_users.loc[index, 'followers_count'],\n",
    "#                          friends_count = unique_users.loc[index, 'friends_count'],\n",
    "#                          generation = unique_users.loc[index, 'generations'],\n",
    "#                          time_since_seed = unique_users.loc[index, 'time_since_seed'],\n",
    "#                         )\n",
    "#     source_index = unique_users.loc[index, 'source_index']\n",
    "# #     print(source_index)\n",
    "#     network_all.add_edge(source_index, index)\n",
    "# len(network_all)"
   ]
  },
  {
   "cell_type": "code",
   "execution_count": 10,
   "metadata": {
    "scrolled": false
   },
   "outputs": [],
   "source": [
    "\n",
    "# closeness=nx.closeness_centrality(network_all)\n",
    "\n",
    "\n"
   ]
  },
  {
   "cell_type": "code",
   "execution_count": 11,
   "metadata": {
    "scrolled": true
   },
   "outputs": [],
   "source": [
    "# closeness\n",
    "# betweenness"
   ]
  },
  {
   "cell_type": "code",
   "execution_count": 12,
   "metadata": {},
   "outputs": [],
   "source": [
    "# a=pd.DataFrame.from_dict(closeness, orient='index')\n",
    "# # a=a.sort_index(ascending=True)\n",
    "# # b=a.rename(columns={'0':'closeness'})\n",
    "# a=a.sort_values(by=0)\n",
    "# a"
   ]
  },
  {
   "cell_type": "code",
   "execution_count": null,
   "metadata": {},
   "outputs": [],
   "source": []
  },
  {
   "cell_type": "code",
   "execution_count": null,
   "metadata": {},
   "outputs": [],
   "source": []
  },
  {
   "cell_type": "code",
   "execution_count": null,
   "metadata": {},
   "outputs": [],
   "source": []
  }
 ],
 "metadata": {
  "kernelspec": {
   "display_name": "Python 3",
   "language": "python",
   "name": "python3"
  },
  "language_info": {
   "codemirror_mode": {
    "name": "ipython",
    "version": 3
   },
   "file_extension": ".py",
   "mimetype": "text/x-python",
   "name": "python",
   "nbconvert_exporter": "python",
   "pygments_lexer": "ipython3",
   "version": "3.6.6"
  }
 },
 "nbformat": 4,
 "nbformat_minor": 2
}
