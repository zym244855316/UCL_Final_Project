{
 "cells": [
  {
   "cell_type": "code",
   "execution_count": 1,
   "metadata": {},
   "outputs": [
    {
     "name": "stdout",
     "output_type": "stream",
     "text": [
      "/Users/maimai/Desktop/project/May\n"
     ]
    }
   ],
   "source": [
    "%cd .."
   ]
  },
  {
   "cell_type": "code",
   "execution_count": 2,
   "metadata": {},
   "outputs": [
    {
     "name": "stdout",
     "output_type": "stream",
     "text": [
      "('Reading config file from location: '\n",
      " '/Users/maimai/Desktop/project/May/configuration/env.properties')\n",
      "{'calculate': {'analysis': True,\n",
      "               'network': True,\n",
      "               'uniquetweets': True,\n",
      "               'uniqueusers': True},\n",
      " 'data': {'dates': ['2018-03-11', '2018-03-12', '2018-03-13'],\n",
      "          'eventname': \"Givenchy's Death\",\n",
      "          'phrases': ['givenchy%20death', 'givenchy%20passed%20away'],\n",
      "          'starttime': 'Mar 12 08:20:00 -0500 2018'},\n",
      " 'path': {'crawl': {'followers': '/Users/maimai/Desktop/project/May/followers',\n",
      "                    'friends': '/Users/maimai/Desktop/project/May/friends'},\n",
      "          'cwd': '/Users/maimai/Desktop/project/May/data/givenchy',\n",
      "          'ml': '/Users/maimai/Desktop/project/May/data/givenchy/pickle',\n",
      "          'networkx': {'all': '/Users/maimai/Desktop/project/May/data/givenchy/pickle/networkx_all.dat',\n",
      "                       'friends': '/Users/maimai/Desktop/project/May/data/givenchy/pickle/networkx_friends.dat',\n",
      "                       'potential': '/Users/maimai/Desktop/project/May/data/givenchy/pickle/networkx_potential.dat'},\n",
      "          'pickle': {'exposed_user_ids_selected': '/Users/maimai/Desktop/project/May/data/givenchy/pickle/exposed_user_ids_selected.dat',\n",
      "                     'followers': '/Users/maimai/Desktop/project/May/data/givenchy/pickle/followers.dat',\n",
      "                     'followersneedcrawl': '/Users/maimai/Desktop/project/May/data/givenchy/pickle/followersneedcrawl.dat',\n",
      "                     'friends': '/Users/maimai/Desktop/project/May/data/givenchy/pickle/friends.dat',\n",
      "                     'infected_user_ids': '/Users/maimai/Desktop/project/May/data/givenchy/pickle/infected_user_ids.dat',\n",
      "                     'needcrawl': '/Users/maimai/Desktop/project/May/data/givenchy/pickle/needcrawl.dat',\n",
      "                     'network': '/Users/maimai/Desktop/project/May/data/givenchy/pickle/network.dat',\n",
      "                     'tweets': '/Users/maimai/Desktop/project/May/data/givenchy/pickle/tweets.dat',\n",
      "                     'users': '/Users/maimai/Desktop/project/May/data/givenchy/pickle/users.dat'},\n",
      "          'result': '/Users/maimai/Desktop/project/May/data/givenchy/result',\n",
      "          'twitter': '/Users/maimai/Desktop/project/May/data/givenchy/twitter'},\n",
      " 'save_to_file': 'False',\n",
      " 'timeframe': '1440'}\n",
      "/Users/maimai/Desktop/project/May/data/givenchy/pickle\n"
     ]
    }
   ],
   "source": [
    "import builtins\n",
    "builtins.uclresearch_topic = 'GIVENCHY'\n",
    "# builtins.uclresearch_topic = 'HAWKING'\n",
    "# builtins.uclresearch_topic = 'NYC'\n",
    "# builtins.uclresearch_topic = 'FLORIDA'\n",
    "from configuration import config\n",
    "from configuration import dzcnapy_plotlib as dzcnapy\n",
    "from tqdm import tqdm\n",
    "import os\n",
    "import pickle\n",
    "import math\n",
    "import numpy as np\n",
    "import networkx as nx\n",
    "import pandas as pd\n",
    "from collections import Counter\n",
    "import operator\n",
    "\n",
    "# Plotting\n",
    "import matplotlib\n",
    "# # matplotlib.use('Agg')\n",
    "import matplotlib.pyplot as plt\n",
    "import matplotlib.patches as mpatches\n",
    "import seaborn as sns\n",
    "from scipy.interpolate import spline\n",
    "\n",
    "# Networkx\n",
    "from networkx.drawing.nx_agraph import graphviz_layout\n"
   ]
  },
  {
   "cell_type": "code",
   "execution_count": 3,
   "metadata": {
    "collapsed": true
   },
   "outputs": [],
   "source": [
    "n_bytes = 2**31\n",
    "max_bytes = 2**31 - 1\n",
    "\n",
    "path = \"/Users/maimai/Desktop/project/May/data/givenchy/pickle\"  \n",
    "\n",
    "def write_to_pickle(file_path, data):\n",
    "\n",
    "    bytes_out = pickle.dumps(data)\n",
    "    with open(file_path, 'wb') as f_out:\n",
    "        for idx in range(0, n_bytes, max_bytes):\n",
    "            f_out.write(bytes_out[idx:idx+max_bytes])\n",
    "\n",
    "def load_pickle(file_path):\n",
    "    bytes_in = bytearray(0)\n",
    "    input_size = os.path.getsize(file_path)\n",
    "    with open(file_path, 'rb') as f_in:\n",
    "        for _ in range(0, input_size, max_bytes):\n",
    "            bytes_in += f_in.read(max_bytes)\n",
    "    return pickle.loads(bytes_in)"
   ]
  },
  {
   "cell_type": "code",
   "execution_count": 4,
   "metadata": {
    "collapsed": true
   },
   "outputs": [],
   "source": [
    "################# 10 cases ###################\n",
    "################# 10 cases ###################\n",
    "A_single = load_pickle(path+'/Stanford_network_simulation_0.6_a.pkl')\n",
    "B_sequential = load_pickle(path+'/Stanford_network_simulation_0.6_b_new.pkl')\n",
    "C_sequential = load_pickle(path+'/Stanford_network_simulation_0.6_c_new.pkl')\n",
    "\n",
    "Cen_Degree = load_pickle(path+'/Stanford_network_simulation_Degree_5.pkl')\n",
    "Cen_Betweenness = load_pickle(path+'/Stanford_network_simulation_betweenness_5.pkl')\n",
    "Cen_Eigencentrality = load_pickle(path+'/Stanford_network_simulation_eigencentrality_5.pkl')\n",
    "\n",
    "Active_low = load_pickle(path+'/Stanford_network_simulation_active_low.pkl')\n",
    "Active_high = load_pickle(path+'/Stanford_network_simulation_active_high.pkl')\n",
    "\n",
    "# Dynamic = load_pickle(path+'/Stanford_network_simulation_active_low.pkl')\n",
    "# Combined = load_pickle(path+'/Stanford_network_simulation_active_low.pkl')"
   ]
  },
  {
   "cell_type": "code",
   "execution_count": 15,
   "metadata": {},
   "outputs": [
    {
     "name": "stdout",
     "output_type": "stream",
     "text": [
      "20 [0 4 5 6 nan 3 7 2 1]\n",
      "138 [0 4 5 6 nan 3 7 2 1]\n",
      "810 [0 4 5 6 nan 3 7 2 1]\n",
      "1822 [0 4 5 6 nan 3 7 2 1]\n",
      "3959 [0 4 5 6 nan 3 7 2 1]\n",
      "10158 [0 4 5 6 nan 3 7 2 1]\n",
      "\n",
      " \n",
      "20 [3 5 6 nan 4 2 0 1]\n",
      "280 [3 5 6 nan 4 2 0 1]\n",
      "2016 [3 5 6 nan 4 2 0 1]\n",
      "4857 [3 5 6 nan 4 2 0 1]\n",
      "4437 [3 5 6 nan 4 2 0 1]\n",
      "7883 [3 5 6 nan 4 2 0 1]\n",
      "\n",
      " \n",
      "20 [0 4 5 6 nan 3 1 2]\n",
      "290 [0 4 5 6 nan 3 1 2]\n",
      "2286 [0 4 5 6 nan 3 1 2]\n",
      "4432 [0 4 5 6 nan 3 1 2]\n",
      "7695 [0 4 5 6 nan 3 1 2]\n",
      "11803 [0 4 5 6 nan 3 1 2]\n",
      "\n",
      " \n"
     ]
    }
   ],
   "source": [
    "name = [A_single, B_sequential, C_sequential,\n",
    "        Cen_Degree, Cen_Betweenness, Cen_Eigencentrality,\n",
    "        Active_low]\n",
    "# a=[0,1,2,3,4,5]\n",
    "\n",
    "# for i in range(0,6):\n",
    "#     count = len(unique_users[unique_users.generations.isin([i])])\n",
    "#     print(count)\n",
    "\n",
    "# time = unique_users['time_lapsed'].unique()\n",
    "# time\n",
    "\n",
    "\n",
    "for i in range(0,7):\n",
    "    for j in range(0,11):\n",
    "        count = len(name[i][name[i].generations.isin([j])])\n",
    "        time_lapsed = name[i]['time_lapsed'].unique()\n",
    "        print(count)\n",
    "    print(time_lapsed)\n",
    "    print()\n",
    "    print(\" \")\n"
   ]
  },
  {
   "cell_type": "code",
   "execution_count": 20,
   "metadata": {},
   "outputs": [
    {
     "name": "stderr",
     "output_type": "stream",
     "text": [
      "/Applications/anaconda3/lib/python3.6/site-packages/ipykernel_launcher.py:10: DeprecationWarning: `spline` is deprecated!\n",
      "spline is deprecated in scipy 0.19.0, use Bspline class instead.\n",
      "  # Remove the CWD from sys.path while we load stuff.\n",
      "/Applications/anaconda3/lib/python3.6/site-packages/ipykernel_launcher.py:11: DeprecationWarning: `spline` is deprecated!\n",
      "spline is deprecated in scipy 0.19.0, use Bspline class instead.\n",
      "  # This is added back by InteractiveShellApp.init_path()\n",
      "/Applications/anaconda3/lib/python3.6/site-packages/ipykernel_launcher.py:12: DeprecationWarning: `spline` is deprecated!\n",
      "spline is deprecated in scipy 0.19.0, use Bspline class instead.\n",
      "  if sys.path[0] == '':\n"
     ]
    },
    {
     "data": {
      "image/png": "[encoded data removed]",
      "text/plain": [
       "<matplotlib.figure.Figure at 0x1a175e7400>"
      ]
     },
     "metadata": {},
     "output_type": "display_data"
    }
   ],
   "source": [
    "with plt.style.context(('ggplot')):\n",
    "    plt.figure(figsize=(5,4))\n",
    "#     x=np.linspace(30,150,5)\n",
    "    x=np.linspace(30,210,6)\n",
    "    y1=[20,158,968,2790,6749,16907]\n",
    "    y2=[20,300,2316,7173,11610,19493]\n",
    "    y3=[20,310,2596,7028,14723,26526]\n",
    "    \n",
    "    xnew = np.linspace(x.min(),x.max(),300)\n",
    "    y11 = spline(x,y1,xnew)\n",
    "    y22 = spline(x,y2,xnew)\n",
    "    y33 = spline(x,y3,xnew)\n",
    "    plt.plot(xnew,y11,color='green',label='Single-stage')\n",
    "    plt.plot(xnew,y22,color='red',label='Sequential: small-to-large')\n",
    "    plt.plot(xnew,y33,color='blue',label='Sequential: large-to-small')\n",
    "    \n",
    "\n",
    "    #     ax.plot(rf.FPR, rf.TPR, color = 'red', label = 'RF: '+str(rf.AUC))\n",
    "    #     ax.plot(lr.FPR, lr.TPR, color = 'black', label = 'LR: '+str(lr.AUC))\n",
    "    \n",
    "    plt.xlabel('Time (min)')\n",
    "    plt.ylabel('The number of infected nodes')\n",
    "    plt.legend(loc='upper left')\n",
    "    #plt.title(\"ROC against different CTR models\")\n",
    "\n",
    "    plt.show()\n",
    "    #     plt.savefig(\"models.png\")"
   ]
  },
  {
   "cell_type": "code",
   "execution_count": null,
   "metadata": {
    "collapsed": true
   },
   "outputs": [],
   "source": []
  }
 ],
 "metadata": {
  "kernelspec": {
   "display_name": "Python 3",
   "language": "python",
   "name": "python3"
  },
  "language_info": {
   "codemirror_mode": {
    "name": "ipython",
    "version": 3
   },
   "file_extension": ".py",
   "mimetype": "text/x-python",
   "name": "python",
   "nbconvert_exporter": "python",
   "pygments_lexer": "ipython3",
   "version": "3.6.2"
  }
 },
 "nbformat": 4,
 "nbformat_minor": 2
}
