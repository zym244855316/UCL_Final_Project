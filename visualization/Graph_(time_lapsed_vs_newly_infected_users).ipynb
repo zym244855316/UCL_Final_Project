{
 "cells": [
  {
   "cell_type": "code",
   "execution_count": 1,
   "metadata": {},
   "outputs": [
    {
     "name": "stdout",
     "output_type": "stream",
     "text": [
      "/Users/maimai/Desktop/project/May\n"
     ]
    }
   ],
   "source": [
    "%cd .."
   ]
  },
  {
   "cell_type": "code",
   "execution_count": 2,
   "metadata": {},
   "outputs": [
    {
     "name": "stdout",
     "output_type": "stream",
     "text": [
      "('Reading config file from location: '\n",
      " '/Users/maimai/Desktop/project/May/configuration/env.properties')\n",
      "{'calculate': {'analysis': True,\n",
      "               'network': True,\n",
      "               'uniquetweets': True,\n",
      "               'uniqueusers': True},\n",
      " 'data': {'dates': ['2018-03-11', '2018-03-12', '2018-03-13'],\n",
      "          'eventname': \"Givenchy's Death\",\n",
      "          'phrases': ['givenchy%20death', 'givenchy%20passed%20away'],\n",
      "          'starttime': 'Mar 12 08:20:00 -0500 2018'},\n",
      " 'path': {'crawl': {'followers': '/Users/maimai/Desktop/project/May/followers',\n",
      "                    'friends': '/Users/maimai/Desktop/project/May/friends'},\n",
      "          'cwd': '/Users/maimai/Desktop/project/May/data/givenchy',\n",
      "          'ml': '/Users/maimai/Desktop/project/May/data/givenchy/pickle',\n",
      "          'networkx': {'all': '/Users/maimai/Desktop/project/May/data/givenchy/pickle/networkx_all.dat',\n",
      "                       'friends': '/Users/maimai/Desktop/project/May/data/givenchy/pickle/networkx_friends.dat',\n",
      "                       'potential': '/Users/maimai/Desktop/project/May/data/givenchy/pickle/networkx_potential.dat'},\n",
      "          'pickle': {'exposed_user_ids_selected': '/Users/maimai/Desktop/project/May/data/givenchy/pickle/exposed_user_ids_selected.dat',\n",
      "                     'followers': '/Users/maimai/Desktop/project/May/data/givenchy/pickle/followers.dat',\n",
      "                     'followersneedcrawl': '/Users/maimai/Desktop/project/May/data/givenchy/pickle/followersneedcrawl.dat',\n",
      "                     'friends': '/Users/maimai/Desktop/project/May/data/givenchy/pickle/friends.dat',\n",
      "                     'infected_user_ids': '/Users/maimai/Desktop/project/May/data/givenchy/pickle/infected_user_ids.dat',\n",
      "                     'needcrawl': '/Users/maimai/Desktop/project/May/data/givenchy/pickle/needcrawl.dat',\n",
      "                     'network': '/Users/maimai/Desktop/project/May/data/givenchy/pickle/network.dat',\n",
      "                     'tweets': '/Users/maimai/Desktop/project/May/data/givenchy/pickle/tweets.dat',\n",
      "                     'users': '/Users/maimai/Desktop/project/May/data/givenchy/pickle/users.dat'},\n",
      "          'result': '/Users/maimai/Desktop/project/May/data/givenchy/result',\n",
      "          'twitter': '/Users/maimai/Desktop/project/May/data/givenchy/twitter'},\n",
      " 'save_to_file': 'False',\n",
      " 'timeframe': '1440'}\n",
      "/Users/maimai/Desktop/project/May/data/givenchy/pickle\n"
     ]
    }
   ],
   "source": [
    "import builtins\n",
    "builtins.uclresearch_topic = 'GIVENCHY'\n",
    "# builtins.uclresearch_topic = 'HAWKING'\n",
    "# builtins.uclresearch_topic = 'NYC'\n",
    "# builtins.uclresearch_topic = 'FLORIDA'\n",
    "from configuration import config\n",
    "from configuration import dzcnapy_plotlib as dzcnapy\n",
    "\n",
    "import pickle\n",
    "import numpy as np\n",
    "import pandas as pd\n",
    "import os\n",
    "import os.path\n",
    "import seaborn as sns\n",
    "import matplotlib\n",
    "import matplotlib.pyplot as plt\n",
    "import matplotlib.patches as mpatches\n",
    "\n",
    "# project_name = 'Givenchy_histogram'\n"
   ]
  },
  {
   "cell_type": "code",
   "execution_count": 4,
   "metadata": {
    "collapsed": true
   },
   "outputs": [],
   "source": [
    "n_bytes = 2**31\n",
    "max_bytes = 2**31 - 1\n",
    "\n",
    "path = \"/Users/maimai/Desktop/project/May/data/givenchy/pickle\"  \n",
    "\n",
    "def write_to_pickle(file_path, data):\n",
    "\n",
    "    bytes_out = pickle.dumps(data)\n",
    "    with open(file_path, 'wb') as f_out:\n",
    "        for idx in range(0, n_bytes, max_bytes):\n",
    "            f_out.write(bytes_out[idx:idx+max_bytes])\n",
    "\n",
    "def load_pickle(file_path):\n",
    "    bytes_in = bytearray(0)\n",
    "    input_size = os.path.getsize(file_path)\n",
    "    with open(file_path, 'rb') as f_in:\n",
    "        for _ in range(0, input_size, max_bytes):\n",
    "            bytes_in += f_in.read(max_bytes)\n",
    "    return pickle.loads(bytes_in)\n",
    "\n",
    "def loadModel(self):\n",
    "    read_file = \"data/\" + self.model_name + \".dat\"\n",
    "    self.model = joblib.load(read_file)\n",
    "    return self.model\n"
   ]
  },
  {
   "cell_type": "code",
   "execution_count": 5,
   "metadata": {
    "collapsed": true
   },
   "outputs": [],
   "source": [
    "################# 10 cases ###################\n",
    "################# 10 cases ###################\n",
    "### 012 (0,3) ###\n",
    "A_single = load_pickle(path+'/Stanford_network_simulation_0.6_a.pkl')\n",
    "B_sequential = load_pickle(path+'/Stanford_network_simulation_0.6_b_new.pkl')\n",
    "C_sequential = load_pickle(path+'/Stanford_network_simulation_0.6_c_new.pkl')\n",
    "### 345 (3,6) ###\n",
    "Cen_Degree = load_pickle(path+'/Stanford_network_simulation_Degree_5.pkl')\n",
    "Cen_Betweenness = load_pickle(path+'/Stanford_network_simulation_betweenness_5.pkl')\n",
    "Cen_Eigencentrality = load_pickle(path+'/Stanford_network_simulation_eigencentrality_5.pkl')\n",
    "### 67 (6,8) ###\n",
    "Active_low = load_pickle(path+'/Stanford_network_simulation_active_low.pkl')\n",
    "Active_high = load_pickle(path+'/Stanford_network_simulation_active_high.pkl')\n",
    "### 8 ###\n",
    "Dynamic = load_pickle(path+'/Stanford_network_simulation_Dynamic.pkl')\n",
    "### 9 ###\n",
    "Active_mid = load_pickle(path+'/Stanford_network_simulation_active_mid.pkl')\n",
    "### 10 ###\n",
    "Combined = load_pickle(path+'/Stanford_network_simulation_Combined.pkl')\n",
    "### 11 ###\n",
    "Givenchy = load_pickle(path+'/Givenchy_network_simulation_new.pkl')\n",
    "\n",
    "\n",
    "unique_users = [A_single, B_sequential, C_sequential,   \n",
    "                Cen_Degree, Cen_Betweenness, Cen_Eigencentrality,\n",
    "                Active_low, Active_high,\n",
    "                Dynamic, Active_mid, Combined, Givenchy]\n",
    "\n",
    "# for i in range(0,8):\n",
    "#     x=[t for t in range(0,300)] \n",
    "#     unique_users[i][unique_users[i].time_lapsed.isin(x)]\n",
    "# x=[0,1,2,3,4,5,6,7,8,9,10,11]\n",
    "# unique=unique_users[4][unique_users[4].generations.isin(x)]\n",
    "# unique"
   ]
  },
  {
   "cell_type": "code",
   "execution_count": 6,
   "metadata": {},
   "outputs": [
    {
     "data": {
      "text/plain": [
       "array([0.0, 1, 1.13, 17.0, 18.68, 21, 11, 22.82, 23.27, 24.93, 24.95,\n",
       "       24.98, 25.58, 28.13, nan, 31, 41.32, 42.7, 45.6, 47.12, 51, 52.62,\n",
       "       54.2, 54.53, 57.95, 58.45, 151, 62.63, 601, 79.57, 81, 83.35, 83.65,\n",
       "       86.1, 90.47, 91, 91.18, 93.5, 101, 96.17, 100.47, 107.67, 191,\n",
       "       114.33, 116.48, 117.98, 201, 119.77, 41, 123.03, 129.3, 631, 131.72,\n",
       "       140.83, 145.2, 146.95, 149.22, 149.28, 151.03, 157.47, 158.5, 159.6,\n",
       "       164.32, 171, 169.77, 170.18, 171.73, 181, 174.25, 177.52, 185.2,\n",
       "       161, 185.8, 186.2, 187.55, 189.12, 189.32, 195.45, 203.15, 204.43,\n",
       "       209.4, 210.03, 219.6, 230.27, 256.43, 270.35, 272.07, 61, 329.27,\n",
       "       331, 339.4, 344.55, 360.22, 366.42, 261, 389.93, 391, 427.85,\n",
       "       439.17, 453.47, 461, 503.72, 516.63, 516.97, 592.67, 341, 639.22,\n",
       "       641.32, 703.13, 141, 720.88, 852.97, 873.38, 894.02, 912.15, 930.8,\n",
       "       944.13, 973.87, 1036.13, 1108.97, 1342.4], dtype=object)"
      ]
     },
     "execution_count": 6,
     "metadata": {},
     "output_type": "execute_result"
    }
   ],
   "source": [
    "Givenchy.time_lapsed.unique()"
   ]
  },
  {
   "cell_type": "code",
   "execution_count": 17,
   "metadata": {},
   "outputs": [
    {
     "data": {
      "text/plain": [
       "3792"
      ]
     },
     "execution_count": 17,
     "metadata": {},
     "output_type": "execute_result"
    }
   ],
   "source": [
    "len(Givenchy[Givenchy.time_lapsed.isin([0.0, 1, 1.13, 17.0, 18.68, 21, 11, 22.82, 23.27, 24.93, 24.95,\n",
    "       24.98, 25.58, 28.13])])"
   ]
  },
  {
   "cell_type": "code",
   "execution_count": 31,
   "metadata": {},
   "outputs": [
    {
     "data": {
      "text/plain": [
       "1"
      ]
     },
     "execution_count": 31,
     "metadata": {},
     "output_type": "execute_result"
    }
   ],
   "source": [
    "len(Givenchy[Givenchy.time_lapsed.isin([28.13])])"
   ]
  },
  {
   "cell_type": "code",
   "execution_count": 8,
   "metadata": {
    "collapsed": true
   },
   "outputs": [],
   "source": [
    "def get_colors(depth):\n",
    "    return sns.cubehelix_palette(depth, start=3, rot=1, reverse=True)\n",
    "    sns.palplot(color)"
   ]
  },
  {
   "cell_type": "code",
   "execution_count": null,
   "metadata": {
    "collapsed": true
   },
   "outputs": [],
   "source": []
  },
  {
   "cell_type": "code",
   "execution_count": 9,
   "metadata": {},
   "outputs": [
    {
     "data": {
      "image/png": "[encoded data removed]",
      "text/plain": [
       "<matplotlib.figure.Figure at 0x1a616b1a58>"
      ]
     },
     "metadata": {},
     "output_type": "display_data"
    }
   ],
   "source": [
    "############### For Givenchy ################\n",
    "############### For Givenchy ################\n",
    "def plot_time_lapsed_vs_newly_infected_users(unique_users):\n",
    "    depth = max(unique_users.generations) + 1\n",
    "    window = 30\n",
    "    timeframe = 1440\n",
    "    title = \"graph/Time_Givenchy\"\n",
    "    d = pd.DataFrame(0, index=np.arange(int(timeframe)/window), columns=range(depth))\n",
    "    for i in range(int(int(timeframe)/window)):\n",
    "        data = unique_users[(unique_users.time_lapsed >= (i)*window) & (unique_users.time_lapsed < (i+1)*window)]\n",
    "        for generation in range(depth):\n",
    "            d.iloc[i, generation] = sum(data.generations == generation)\n",
    "    colors = get_colors(depth)\n",
    "    ax = d.plot.bar(\n",
    "        stacked=True, \n",
    "        color = colors\n",
    "    );\n",
    "    ax.set_xticks(range(48))\n",
    "    ax.set_xticklabels([(i+1)*30 for i in range(48)])\n",
    "    ax.set_xlabel('time lapsed (30 mins per bar)')\n",
    "    ax.set_ylabel('number of newly infected users')\n",
    "    patchList = []\n",
    "    for index in range(depth):\n",
    "        data_key = mpatches.Patch(color=colors[index], label='Generation {}'.format(index))\n",
    "        patchList.append(data_key)\n",
    "    plt.legend(handles=patchList)\n",
    "    dzcnapy.plot(title, [15, 9], save=True)\n",
    "unique=Givenchy[Givenchy.time_lapsed.isin([0.0, 1, 2, 1.13, 19, 17.0, 94, 18.68, 18, 22.82, 23.27, 24.93,\n",
    "       24.95, 24.98, 25.58, 91, 28.13, 20, 92, 21, 41.32, 42.7, 45.6,\n",
    "       47.12, 48, 52.62, 54.2, 54.53, 57.95, 58.45, 62.63, 79.57, 83.35,\n",
    "       83.65, 86.1, 29, 90.47, 91.18, 93.5, 95, 96.17, 100.47, 22, 107.67,\n",
    "       114.33, 116.48, 117.98, 119.77, 123.03, 129.3, 131.72, 140.83,\n",
    "       145.2, 146.95, 149.22, 149.28, 151.03, 157.47, 158.5, 159.6, 164.32,\n",
    "       169.77, 170.18, 171.73, 174.25, 177.52, 185.2, 185.8, 186.2, 187.55,\n",
    "       189.12, 189.32, 195.45, 203.15, 204.43, 209.4, 210.03, 219.6,\n",
    "       230.27, 256.43, 270.35, 272.07, 329.27, 339.4, 344.55, 360.22,\n",
    "       366.42, 389.93, 427.85, 439.17, 453.47, 503.72, 516.63, 516.97,\n",
    "       592.67, 639.22, 641.32, 703.13, 720.88, 852.97, 873.38, 894.02,\n",
    "       912.15, 930.8, 944.13, 973.87, 1036.13, 1108.97, 1342.4])]\n",
    "plot_time_lapsed_vs_newly_infected_users(unique)\n",
    "\n",
    "# def plot_time_lapsed_vs_newly_infected_users(unique_users):\n",
    "#     depth = max(unique_users.generations) + 1\n",
    "#     window = 30\n",
    "#     timeframe = 1440\n",
    "#     d = pd.DataFrame(0, index=np.arange(int(timeframe)/window), columns=range(depth))\n",
    "#     for i in range(int(int(timeframe)/window)):\n",
    "#         data = unique_users[(unique_users.time_lapsed >= (i*60)*window & (unique_users.time_lapsed < ((i+1)*60)*window))]\n",
    "#         #print(data)\n",
    "#         for generation in range(depth):\n",
    "#             d.iloc[i, generation] = sum(data.generations == generation)\n",
    "#     colors = get_colors(depth)\n",
    "#     print(d)\n",
    "#     ax = d.plot.bar(\n",
    "#         stacked=True, \n",
    "#         color = colors\n",
    "#     );\n",
    "#     for j in range(5): \n",
    "#         b=d[0][j]+d[1][j]+d[2][j]+d[3][j]+d[4][j]\n",
    "# #         b=d[j][0]+d[j][1]+d[j][2]+d[j][3]\n",
    "#         print(b)\n",
    "#         plt.text(j, b, b, ha='center', va= 'bottom',fontsize=22)\n",
    "    \n",
    "#     ax.set_xticks(range(48))\n",
    "#     ax.set_xticklabels([(i+1)*30 for i in range(48)])\n",
    "#     ax.set_xlabel('time lapsed (30 mins per bar)')\n",
    "#     ax.set_ylabel('number of newly infected users')\n",
    "#     patchList = []\n",
    "#     for index in range(depth):\n",
    "#         data_key = mpatches.Patch(color=colors[index], label='Generation {}'.format(index))\n",
    "#         patchList.append(data_key)\n",
    "#     plt.legend(handles=patchList)\n",
    "#     dzcnapy.plot(title, [15, 9], save=True)\n",
    "    \n",
    "# for i in range(11,12):\n",
    "#     title_name = [\"graph/Time_A_single\", \"graph/Time_B_sequential\", \"graph/Time_C_sequential\",\n",
    "#      \"graph/Time_Cen_Degree\", \"graph/Time_Cen_Betweenness\", \"graph/Time_Cen_Eigencentrality\",\n",
    "#      \"graph/Time_Active_low\",\"graph/Time_Active_high\",\"graph/Time_Dynamic\",\"graph/Time_Active_mid\",\n",
    "#                  \"graph/Time_Combined\",\"graph/Time_Givenchy\"]\n",
    "#     title = title_name[i]\n",
    "#     x=[0.0, 1, 2, 1.13, 19, 17.0, 94, 18.68, 18, 22.82, 23.27, 24.93,\n",
    "#        24.95, 24.98, 25.58, 91, 28.13, 20, 92, 21, 41.32, 42.7, 45.6,\n",
    "#        47.12, 48, 52.62, 54.2, 54.53, 57.95, 58.45, 62.63, 79.57, 83.35,\n",
    "#        83.65, 86.1, 29, 90.47, 91.18, 93.5, 95, 96.17, 100.47, 22, 107.67,\n",
    "#        114.33, 116.48, 117.98, 119.77, 123.03, 129.3, 131.72, 140.83,\n",
    "#        145.2, 146.95, 149.22, 149.28, 151.03, 157.47, 158.5, 159.6, 164.32,\n",
    "#        169.77, 170.18, 171.73, 174.25, 177.52, 185.2, 185.8, 186.2, 187.55,\n",
    "#        189.12, 189.32, 195.45, 203.15, 204.43, 209.4, 210.03, 219.6,\n",
    "#        230.27, 256.43, 270.35, 272.07, 329.27, 339.4, 344.55, 360.22,\n",
    "#        366.42, 389.93, 427.85, 439.17, 453.47, 503.72, 516.63, 516.97,\n",
    "#        592.67, 639.22, 641.32, 703.13, 720.88, 852.97, 873.38, 894.02,\n",
    "#        912.15, 930.8, 944.13, 973.87, 1036.13, 1108.97, 1342.4]\n",
    "#     unique=unique_users[i][unique_users[i].time_lapsed.isin(x)]\n",
    "#     print(len(unique))\n",
    "#     plot_time_lapsed_vs_newly_infected_users(unique)"
   ]
  },
  {
   "cell_type": "code",
   "execution_count": 6,
   "metadata": {
    "collapsed": true,
    "scrolled": true
   },
   "outputs": [],
   "source": [
    "####################### for active_low and active_high ##########################\n",
    "####################### for active_low and active_high ##########################\n",
    "#### def plot_time_lapsed_vs_newly_infected_users(unique_users):\n",
    "###     depth = max(unique_users.generations) + 1\n",
    "#     window = 30\n",
    "#     timeframe =300\n",
    "# #     title = 'time lapsed vs newly infected users for event {}'.format(unique_users)\n",
    "#     d = pd.DataFrame(0, index=np.arange(int(timeframe)/window), columns=range(depth))\n",
    "#     for i in range(int(int(timeframe)/window)):\n",
    "#         data = unique_users[(unique_users.time_lapsed >= (i)*window) & (unique_users.time_lapsed < (i+1)*window)]\n",
    "#         for generation in range(depth):\n",
    "#             d.iloc[i, generation] = sum(data.generations == generation)\n",
    "#     colors = get_colors(depth)\n",
    "#     ax = d.plot.bar(\n",
    "#         stacked=True, \n",
    "#         color = colors\n",
    "#     );\n",
    "#     ax.set_xticks(range(10))\n",
    "#     ax.set_xticklabels([i*30 for i in range(10)])\n",
    "#     ax.set_xlabel('time lapsed')\n",
    "#     ax.set_ylabel('number of newly infected users')\n",
    "#     patchList = []\n",
    "#     for index in range(depth):\n",
    "#         data_key = mpatches.Patch(color=colors[index], label='Generation {}'.format(index))\n",
    "#         patchList.append(data_key)\n",
    "#     plt.legend(handles=patchList)\n",
    "#     dzcnapy.plot(title, [15, 9], save=True)\n",
    "    \n",
    "# def plot_time_lapsed_vs_newly_infected_users(unique_users):\n",
    "#     depth = max(unique_users.generations) + 1\n",
    "#     window = 30\n",
    "#     timeframe = 300\n",
    "#     d = pd.DataFrame(0, index=np.arange(int(timeframe)/window), columns=range(depth))\n",
    "#     for i in range(int(int(timeframe)/window)):\n",
    "#         data = unique_users[(unique_users.time_lapsed >= (i)*window) & (unique_users.time_lapsed < (i+1)*window)]\n",
    "#         for generation in range(depth):\n",
    "#             d.iloc[i, generation] = sum(data.generations == generation)\n",
    "#     colors = get_colors(depth)\n",
    "#     print(d)\n",
    "#     ax = d.plot.bar(\n",
    "#         stacked=True, \n",
    "#         color = colors\n",
    "#     );\n",
    "#     for j in range(10): \n",
    "#         b=d[0][j]+d[1][j]+d[2][j]+d[3][j]+d[4][j]+d[5][j]+d[6][j]+d[7][j]+d[8][j]+d[9][j]+d[10][j]\n",
    "# #         b=d[j][0]+d[j][1]+d[j][2]+d[j][3]\n",
    "#         print(b)\n",
    "#         plt.text(j, b, b, ha='center', va= 'bottom',fontsize=22)\n",
    "    \n",
    "#     ax.set_xticks(range(10))\n",
    "#     ax.set_xticklabels([((i+1)*30) for i in range(10)])\n",
    "#     ax.set_xlabel('time lapsed (30 mins per bar)')\n",
    "#     ax.set_ylabel('number of newly infected users')\n",
    "#     patchList = []\n",
    "#     for index in range(depth):\n",
    "#         data_key = mpatches.Patch(color=colors[index], label='Generation {}'.format(index))\n",
    "#         patchList.append(data_key)\n",
    "#     plt.legend(handles=patchList)\n",
    "#     dzcnapy.plot(title, [15, 9], save=True)\n",
    "    \n",
    "# for i in range(9,10):\n",
    "#     title_name = [\"graph/Time_A_single\", \"graph/Time_B_sequential\", \"graph/Time_C_sequential\",\n",
    "#         \"graph/Time_Cen_Degree\", \"graph/Time_Cen_Betweenness\", \"graph/Time_Cen_Eigencentrality\",\n",
    "#         \"graph/Time_Active_low\",\"graph/Time_Active_high\",\"graph/Time_Dynamic\",\"graph/Time_Active_mid\"]\n",
    "#     title = title_name[i]\n",
    "#     x=[t for t in range(0,300)]\n",
    "#     unique=unique_users[i][unique_users[i].time_lapsed.isin(x)]\n",
    "#     plot_time_lapsed_vs_newly_infected_users(unique)"
   ]
  },
  {
   "cell_type": "code",
   "execution_count": 7,
   "metadata": {
    "collapsed": true,
    "scrolled": false
   },
   "outputs": [],
   "source": [
    "######################## for centrality ##########################\n",
    "######################## for centrality ##########################\n",
    "# def plot_time_lapsed_vs_newly_infected_users(unique_users):\n",
    "#     depth = max(unique_users.generations) + 1\n",
    "#     window = 1\n",
    "#     timeframe = 5\n",
    "# #     title = 'time lapsed vs newly infected users for event {}'.format(unique_users)\n",
    "#     d = pd.DataFrame(0, index=np.arange(int(timeframe)/window), columns=range(depth))\n",
    "#     for i in range(int(int(timeframe)/window)):\n",
    "#         data = unique_users[(unique_users.time_lapsed >= (i)*window) & (unique_users.time_lapsed < (i+1)*window)]\n",
    "#         for generation in range(depth):\n",
    "#             d.iloc[i, generation] = sum(data.generations == generation)\n",
    "#     colors = get_colors(depth)\n",
    "#     ax = d.plot.bar(\n",
    "#         stacked=True, \n",
    "#         color = colors\n",
    "#     );\n",
    "#     print(d)\n",
    "#     for j in range(5): \n",
    "#         b=d[0][j]+d[1][j]+d[2][j]+d[3][j]+d[4][j]\n",
    "#         if j == 0:\n",
    "#             b=5\n",
    "#         print(b)\n",
    "#         plt.text(j, b, b, ha='center', va= 'bottom',fontsize=22)\n",
    "#     ax.set_xticks(range(5))\n",
    "#     ax.set_xticklabels([((i+1)*30) for i in range(5)])\n",
    "#     ax.set_xlabel('time lapsed (30 mins per bar)')\n",
    "#     ax.set_ylabel('number of newly infected users')\n",
    "#     patchList = []\n",
    "#     for index in range(depth):\n",
    "#         data_key = mpatches.Patch(color=colors[index], label='Generation {}'.format(index))\n",
    "#         patchList.append(data_key)\n",
    "#     plt.legend(handles=patchList)\n",
    "#     dzcnapy.plot(title, [15, 9], save=True)\n",
    "    \n",
    "# for i in range(5,6):\n",
    "#     title_name = [\"graph/Time_A_single\", \"graph/Time_B_sequential\", \"graph/Time_C_sequential\",\n",
    "#         \"graph/Time_Cen_Degree\", \"graph/Time_Cen_Betweenness\", \"graph/Time_Cen_Eigencentrality\",\n",
    "#         \"graph/Time_Active_low\",\"graph/Time_Active_high\",\"graph/Time_Dynamic\",\"graph/Time_Active_mid\"]\n",
    "#     title = title_name[i]\n",
    "#     x=[0,1,2,3,4,5,6]\n",
    "#     unique=unique_users[i][unique_users[i].generations.isin(x)]\n",
    "#     print(len(unique))\n",
    "# #     for j in range(6):\n",
    "# #         print(len(unique[unique.time_lapsed.isin([j])]))\n",
    "#     #print(unique=unique_users[i][unique_users[i].time_lapsed.isin(x)])\n",
    "#     plot_time_lapsed_vs_newly_infected_users(unique)"
   ]
  },
  {
   "cell_type": "code",
   "execution_count": null,
   "metadata": {
    "collapsed": true
   },
   "outputs": [],
   "source": []
  },
  {
   "cell_type": "code",
   "execution_count": 10,
   "metadata": {
    "scrolled": false
   },
   "outputs": [
    {
     "name": "stdout",
     "output_type": "stream",
     "text": [
      "38090\n",
      "     0    1     2      3     4     5\n",
      "0.0  5    0     0      0     0     0\n",
      "1.0  5    0     0      0     0     0\n",
      "2.0  5   40     0      0     0     0\n",
      "3.0  5  330   361      0     0     0\n",
      "4.0  0  679  3518   2210     0     0\n",
      "5.0  0   75  1621  10218  4987     0\n",
      "6.0  0   13   119   1721  7789  4389\n",
      "5\n",
      "5\n",
      "45\n",
      "696\n",
      "6407\n",
      "16901\n",
      "14031\n"
     ]
    },
    {
     "data": {
      "image/png": "[encoded data removed]",
      "text/plain": [
       "<matplotlib.figure.Figure at 0x1a5c9312b0>"
      ]
     },
     "metadata": {},
     "output_type": "display_data"
    }
   ],
   "source": [
    "# def plot_time_lapsed_vs_newly_infected_users(unique_users):\n",
    "#     depth = max(unique_users.generations) + 1\n",
    "#     window = 1\n",
    "#     timeframe = 7\n",
    "# #     title = 'time lapsed vs newly infected users for event {}'.format(unique_users)\n",
    "#     d = pd.DataFrame(0, index=np.arange(int(timeframe)/window), columns=range(depth))\n",
    "    \n",
    "#     for i in range(int(int(timeframe)/window)):\n",
    "#         data = unique_users[(unique_users.time_lapsed >= (i)*window) & (unique_users.time_lapsed < (i+1)*window)]\n",
    "#         for generation in range(depth):\n",
    "#             d.iloc[i, generation] = sum(data.generations == generation)\n",
    "#     colors = get_colors(depth)\n",
    "#     ax = d.plot.bar(\n",
    "#         stacked=True, \n",
    "#         color = colors\n",
    "#     );\n",
    "#     print(d)\n",
    "#     for j in range(7):\n",
    "#         b=d[0][j]+d[1][j]+d[2][j]+d[3][j]+d[4][j]+d[5][j]\n",
    "# #         if j == 6:\n",
    "# #             b=d[0][j]+d[1][j]+d[2][j]+d[3][j]+d[4][j]+d[5][j]+5\n",
    "#         print(b)\n",
    "#         plt.text(j, b, b, ha='center', va= 'bottom',fontsize=22)\n",
    "#     ax.set_xticks(range(7))\n",
    "#     ax.set_xticklabels([((i+1)*30) for i in range(7)])\n",
    "#     ax.set_xlabel('time lapsed (30 mins per bar) ')\n",
    "#     ax.set_ylabel('number of newly infected users')\n",
    "#     patchList = []\n",
    "#     for index in range(depth):\n",
    "#         data_key = mpatches.Patch(color=colors[index], label='Generation {}'.format(index))\n",
    "#         patchList.append(data_key)\n",
    "#     plt.legend(handles=patchList,loc='upper left')\n",
    "#     dzcnapy.plot(title, [15, 9], save=True)\n",
    "    \n",
    "# for i in range(10,11):\n",
    "#     title_name = [\"graph/Time_A_single\", \"graph/Time_B_sequential\", \"graph/Time_C_sequential\",\n",
    "#         \"graph/Time_Cen_Degree\", \"graph/Time_Cen_Betweenness\", \"graph/Time_Cen_Eigencentrality\",\n",
    "#         \"graph/Time_Active_low\",\"graph/Time_Active_high\",\"graph/Time_Dynamic\",\"graph/Time_Active_mid\",\n",
    "#                  \"graph/Time_Combined\"]\n",
    "#     title = title_name[i]\n",
    "#     x=[0,1,2,3,4,5]\n",
    "#     unique=unique_users[i][unique_users[i].generations.isin(x)]\n",
    "#     print(len(unique))\n",
    "#     plot_time_lapsed_vs_newly_infected_users(unique)"
   ]
  },
  {
   "cell_type": "code",
   "execution_count": null,
   "metadata": {
    "collapsed": true
   },
   "outputs": [],
   "source": []
  },
  {
   "cell_type": "code",
   "execution_count": null,
   "metadata": {
    "collapsed": true
   },
   "outputs": [],
   "source": [
    "# A_single[A_single.generations.isin(range(0,6))]\n",
    "# unique_users = [A_single, B_sequential, C_sequential,\n",
    "#         Cen_Degree, Cen_Betweenness, Cen_Eigencentrality,\n",
    "#         Active_low,Active_high]\n",
    "# unique_users[3]\n",
    "# x=[0,1,2,3,4,5]\n",
    "# unique_users[3][unique_users[3].generations.isin(x)]"
   ]
  },
  {
   "cell_type": "code",
   "execution_count": null,
   "metadata": {
    "collapsed": true
   },
   "outputs": [],
   "source": [
    "# Cen_Eigencentrality[Cen_Eigencentrality.time_lapsed.isin(range(0,6))][\"generations\"].unique()"
   ]
  },
  {
   "cell_type": "code",
   "execution_count": null,
   "metadata": {
    "collapsed": true
   },
   "outputs": [],
   "source": [
    "# for i in range(len(Cen_Eigencentrality)):\n",
    "#     Cen_Eigencentrality.iloc[i,\"generations\"]"
   ]
  },
  {
   "cell_type": "code",
   "execution_count": null,
   "metadata": {
    "collapsed": true
   },
   "outputs": [],
   "source": [
    "# a=[x for x in range(len(Cen_Eigencentrality)) if len(Cen_Eigencentrality.iloc[x,\"generations\"])==False]"
   ]
  },
  {
   "cell_type": "code",
   "execution_count": null,
   "metadata": {
    "collapsed": true
   },
   "outputs": [],
   "source": []
  },
  {
   "cell_type": "code",
   "execution_count": null,
   "metadata": {
    "collapsed": true
   },
   "outputs": [],
   "source": []
  }
 ],
 "metadata": {
  "kernelspec": {
   "display_name": "Python 3",
   "language": "python",
   "name": "python3"
  },
  "language_info": {
   "codemirror_mode": {
    "name": "ipython",
    "version": 3
   },
   "file_extension": ".py",
   "mimetype": "text/x-python",
   "name": "python",
   "nbconvert_exporter": "python",
   "pygments_lexer": "ipython3",
   "version": "3.6.2"
  }
 },
 "nbformat": 4,
 "nbformat_minor": 2
}
