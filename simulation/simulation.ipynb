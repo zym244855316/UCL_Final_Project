{
 "cells": [
  {
   "cell_type": "code",
   "execution_count": 1,
   "metadata": {},
   "outputs": [
    {
     "name": "stderr",
     "output_type": "stream",
     "text": [
      "/home/ec2-user/miniconda3/lib/python3.6/importlib/_bootstrap.py:219: RuntimeWarning: numpy.dtype size changed, may indicate binary incompatibility. Expected 96, got 88\n",
      "  return f(*args, **kwds)\n",
      "/home/ec2-user/miniconda3/lib/python3.6/importlib/_bootstrap.py:219: RuntimeWarning: numpy.dtype size changed, may indicate binary incompatibility. Expected 96, got 88\n",
      "  return f(*args, **kwds)\n"
     ]
    }
   ],
   "source": [
    "import numpy as np\n",
    "import pandas as pd\n",
    "import pickle\n",
    "import os.path\n",
    "import math\n",
    "import sys\n",
    "import csv\n",
    "import matplotlib.pyplot as plt\n",
    "from sklearn.externals import joblib\n",
    "import scipy.integrate as spi\n",
    "import pylab as pl"
   ]
  },
  {
   "cell_type": "markdown",
   "metadata": {},
   "source": [
    "## Load Data"
   ]
  },
  {
   "cell_type": "code",
   "execution_count": 2,
   "metadata": {
    "collapsed": true
   },
   "outputs": [],
   "source": [
    "n_bytes = 2**31\n",
    "max_bytes = 2**31 - 1\n",
    "\n",
    "def load_pickle(file_path):\n",
    "    \n",
    "    bytes_in = bytearray(0)\n",
    "    input_size = os.path.getsize(file_path)\n",
    "    with open(file_path, 'rb') as f_in:\n",
    "        for _ in range(0, input_size, max_bytes):\n",
    "            bytes_in += f_in.read(max_bytes)\n",
    "        return pickle.loads(bytes_in)\n",
    "    \n",
    "users = load_pickle(\"data/users.dat\")\n",
    "friends = load_pickle(\"data/friends.dat\")\n",
    "network = load_pickle(\"data/network.dat\")\n",
    "data = load_pickle(\"data/30_data.dat\")\n",
    "new_data = load_pickle(\"data/30data_new.dat\")"
   ]
  },
  {
   "cell_type": "code",
   "execution_count": 3,
   "metadata": {
    "scrolled": true
   },
   "outputs": [
    {
     "data": {
      "text/html": [
       "<div>\n",
       "<style>\n",
       "    .dataframe thead tr:only-child th {\n",
       "        text-align: right;\n",
       "    }\n",
       "\n",
       "    .dataframe thead th {\n",
       "        text-align: left;\n",
       "    }\n",
       "\n",
       "    .dataframe tbody tr th {\n",
       "        vertical-align: top;\n",
       "    }\n",
       "</style>\n",
       "<table border=\"1\" class=\"dataframe\">\n",
       "  <thead>\n",
       "    <tr style=\"text-align: right;\">\n",
       "      <th></th>\n",
       "      <th>user</th>\n",
       "      <th>user_id</th>\n",
       "      <th>time_lapsed</th>\n",
       "      <th>followers_count</th>\n",
       "      <th>friends_count</th>\n",
       "      <th>mention_and_reply</th>\n",
       "      <th>source_candidates</th>\n",
       "      <th>source_index</th>\n",
       "      <th>seed_index</th>\n",
       "      <th>generation</th>\n",
       "      <th>time_since_seed</th>\n",
       "    </tr>\n",
       "  </thead>\n",
       "  <tbody>\n",
       "    <tr>\n",
       "      <th>0</th>\n",
       "      <td>davelackie</td>\n",
       "      <td>100766356</td>\n",
       "      <td>0.00</td>\n",
       "      <td>143119</td>\n",
       "      <td>4643</td>\n",
       "      <td>[]</td>\n",
       "      <td>[3, 5, 6, 7, 10, 11, 14, 15, 19, 20, 24, 74, 8...</td>\n",
       "      <td>None</td>\n",
       "      <td>0</td>\n",
       "      <td>0</td>\n",
       "      <td>0</td>\n",
       "    </tr>\n",
       "    <tr>\n",
       "      <th>1</th>\n",
       "      <td>alexanderskhan</td>\n",
       "      <td>3186545203</td>\n",
       "      <td>0.15</td>\n",
       "      <td>753</td>\n",
       "      <td>3428</td>\n",
       "      <td>[0]</td>\n",
       "      <td>[0]</td>\n",
       "      <td>0</td>\n",
       "      <td>0</td>\n",
       "      <td>1</td>\n",
       "      <td>0.15</td>\n",
       "    </tr>\n",
       "    <tr>\n",
       "      <th>2</th>\n",
       "      <td>consiglierela</td>\n",
       "      <td>4134992843</td>\n",
       "      <td>0.23</td>\n",
       "      <td>2161</td>\n",
       "      <td>396</td>\n",
       "      <td>[0]</td>\n",
       "      <td>[0, 12, 21, 32, 48, 748, 819, 972, 2358, 2778,...</td>\n",
       "      <td>0</td>\n",
       "      <td>0</td>\n",
       "      <td>1</td>\n",
       "      <td>0.23</td>\n",
       "    </tr>\n",
       "    <tr>\n",
       "      <th>3</th>\n",
       "      <td>ImpactPrincess</td>\n",
       "      <td>1955472014</td>\n",
       "      <td>0.63</td>\n",
       "      <td>242</td>\n",
       "      <td>642</td>\n",
       "      <td>[0]</td>\n",
       "      <td>[0, 115, 577]</td>\n",
       "      <td>0</td>\n",
       "      <td>0</td>\n",
       "      <td>1</td>\n",
       "      <td>0.63</td>\n",
       "    </tr>\n",
       "    <tr>\n",
       "      <th>4</th>\n",
       "      <td>Damek0Masca</td>\n",
       "      <td>406301175</td>\n",
       "      <td>1.13</td>\n",
       "      <td>116</td>\n",
       "      <td>239</td>\n",
       "      <td>[]</td>\n",
       "      <td>[]</td>\n",
       "      <td>None</td>\n",
       "      <td>4</td>\n",
       "      <td>0</td>\n",
       "      <td>0</td>\n",
       "    </tr>\n",
       "  </tbody>\n",
       "</table>\n",
       "</div>"
      ],
      "text/plain": [
       "             user     user_id  time_lapsed  followers_count  friends_count  \\\n",
       "0      davelackie   100766356         0.00           143119           4643   \n",
       "1  alexanderskhan  3186545203         0.15              753           3428   \n",
       "2   consiglierela  4134992843         0.23             2161            396   \n",
       "3  ImpactPrincess  1955472014         0.63              242            642   \n",
       "4     Damek0Masca   406301175         1.13              116            239   \n",
       "\n",
       "  mention_and_reply                                  source_candidates  \\\n",
       "0                []  [3, 5, 6, 7, 10, 11, 14, 15, 19, 20, 24, 74, 8...   \n",
       "1               [0]                                                [0]   \n",
       "2               [0]  [0, 12, 21, 32, 48, 748, 819, 972, 2358, 2778,...   \n",
       "3               [0]                                      [0, 115, 577]   \n",
       "4                []                                                 []   \n",
       "\n",
       "  source_index  seed_index  generation time_since_seed  \n",
       "0         None           0           0               0  \n",
       "1            0           0           1            0.15  \n",
       "2            0           0           1            0.23  \n",
       "3            0           0           1            0.63  \n",
       "4         None           4           0               0  "
      ]
     },
     "execution_count": 3,
     "metadata": {},
     "output_type": "execute_result"
    }
   ],
   "source": [
    "users.head()\n",
    "\n",
    "## friends\n",
    "# for key, value in friends.items():\n",
    "#     print(key, value)\n",
    "\n",
    "# network.head()"
   ]
  },
  {
   "cell_type": "markdown",
   "metadata": {
    "collapsed": true
   },
   "source": [
    "## The seeds"
   ]
  },
  {
   "cell_type": "code",
   "execution_count": 4,
   "metadata": {},
   "outputs": [],
   "source": [
    "record_num = users.describe().iloc[0,0]\n",
    "record_num = int(record_num)\n",
    "for i in range(record_num):\n",
    "    record = users.loc[i,\"generation\"]\n",
    "    if record == 0:\n",
    "        seeds = users.loc[i,:]\n",
    "        #print(seeds)"
   ]
  },
  {
   "cell_type": "markdown",
   "metadata": {},
   "source": [
    "## Initial Adjacency Matrix"
   ]
  },
  {
   "cell_type": "code",
   "execution_count": 5,
   "metadata": {},
   "outputs": [],
   "source": [
    "node_num = users.shape[0]\n",
    "# node_num"
   ]
  },
  {
   "cell_type": "code",
   "execution_count": 6,
   "metadata": {},
   "outputs": [],
   "source": [
    "ad_matrix=[[0 for col in range(node_num)] for row in range(node_num)]\n",
    "# ad_matrix[0][0:5]"
   ]
  },
  {
   "cell_type": "code",
   "execution_count": 7,
   "metadata": {},
   "outputs": [],
   "source": [
    "for i in range(node_num):\n",
    "    length = len(users.loc[i,\"source_candidates\"])\n",
    "    for j in range(length):\n",
    "        parents = users.loc[i,\"source_candidates\"][j]\n",
    "        ad_matrix[i][parents] = 1\n",
    "#ad_matrix[0:1][0:100]"
   ]
  },
  {
   "cell_type": "markdown",
   "metadata": {},
   "source": [
    "## Load the model"
   ]
  },
  {
   "cell_type": "code",
   "execution_count": 8,
   "metadata": {},
   "outputs": [],
   "source": [
    "def loadModel(self):\n",
    "    read_file = self.model_name + \".pickle.dat\"\n",
    "    self.model = joblib.load(read_file)\n",
    "    return self.model\n",
    "\n",
    "model = joblib.load(\"predictor_1.pickle\")\n",
    "# model"
   ]
  },
  {
   "cell_type": "markdown",
   "metadata": {},
   "source": [
    "## Spread simulation ——A_Simple_Trial"
   ]
  },
  {
   "cell_type": "code",
   "execution_count": 15,
   "metadata": {},
   "outputs": [
    {
     "data": {
      "text/html": [
       "<div>\n",
       "<style>\n",
       "    .dataframe thead tr:only-child th {\n",
       "        text-align: right;\n",
       "    }\n",
       "\n",
       "    .dataframe thead th {\n",
       "        text-align: left;\n",
       "    }\n",
       "\n",
       "    .dataframe tbody tr th {\n",
       "        vertical-align: top;\n",
       "    }\n",
       "</style>\n",
       "<table border=\"1\" class=\"dataframe\">\n",
       "  <thead>\n",
       "    <tr style=\"text-align: right;\">\n",
       "      <th></th>\n",
       "      <th>user</th>\n",
       "      <th>candidates</th>\n",
       "      <th>SIR</th>\n",
       "      <th>generations</th>\n",
       "    </tr>\n",
       "  </thead>\n",
       "  <tbody>\n",
       "    <tr>\n",
       "      <th>0</th>\n",
       "      <td>davelackie</td>\n",
       "      <td>[3, 5, 6, 7, 10, 11, 14, 15, 19, 20, 24, 74, 8...</td>\n",
       "      <td>2</td>\n",
       "      <td>0</td>\n",
       "    </tr>\n",
       "    <tr>\n",
       "      <th>1</th>\n",
       "      <td>alexanderskhan</td>\n",
       "      <td>[0]</td>\n",
       "      <td>0</td>\n",
       "      <td>NaN</td>\n",
       "    </tr>\n",
       "    <tr>\n",
       "      <th>2</th>\n",
       "      <td>consiglierela</td>\n",
       "      <td>[0, 12, 21, 32, 48, 748, 819, 972, 2358, 2778,...</td>\n",
       "      <td>2</td>\n",
       "      <td>0</td>\n",
       "    </tr>\n",
       "    <tr>\n",
       "      <th>3</th>\n",
       "      <td>ImpactPrincess</td>\n",
       "      <td>[0, 115, 577]</td>\n",
       "      <td>2</td>\n",
       "      <td>0</td>\n",
       "    </tr>\n",
       "    <tr>\n",
       "      <th>4</th>\n",
       "      <td>Damek0Masca</td>\n",
       "      <td>[]</td>\n",
       "      <td>0</td>\n",
       "      <td>NaN</td>\n",
       "    </tr>\n",
       "  </tbody>\n",
       "</table>\n",
       "</div>"
      ],
      "text/plain": [
       "             user                                         candidates  SIR  \\\n",
       "0      davelackie  [3, 5, 6, 7, 10, 11, 14, 15, 19, 20, 24, 74, 8...    2   \n",
       "1  alexanderskhan                                                [0]    0   \n",
       "2   consiglierela  [0, 12, 21, 32, 48, 748, 819, 972, 2358, 2778,...    2   \n",
       "3  ImpactPrincess                                      [0, 115, 577]    2   \n",
       "4     Damek0Masca                                                 []    0   \n",
       "\n",
       "  generations  \n",
       "0           0  \n",
       "1         NaN  \n",
       "2           0  \n",
       "3           0  \n",
       "4         NaN  "
      ]
     },
     "execution_count": 15,
     "metadata": {},
     "output_type": "execute_result"
    }
   ],
   "source": [
    "users_new = pd.DataFrame(columns=[\"user\",\"candidates\",\"SIR\",\"generations\"])\n",
    "users_new[\"user\"] = users[\"user\"]\n",
    "users_new[\"candidates\"] = users[\"source_candidates\"]\n",
    "users_new[\"SIR\"] =0\n",
    "users_new.head()\n",
    "\n",
    "#set 0,2,3 as seeds\n",
    "#in SIR,0=uninfected, 1=infected, 2=immunity\n",
    "infec=0.5\n",
    "N= 5\n",
    "\n",
    "# users_new[\"SIR\"] = \"Null\"\n",
    "# users_new[\"generations\"] =\"Null\"\n",
    "\n",
    "users_new.loc[0,\"SIR\"]= 1\n",
    "users_new.loc[0,\"generations\"]=0\n",
    "users_new.loc[2,\"SIR\"]= 1\n",
    "users_new.loc[2,\"generations\"]=0\n",
    "users_new.loc[3,\"SIR\"]= 1\n",
    "users_new.loc[3,\"generations\"]=0\n",
    "for n in range(N):\n",
    "    for i in range(record_num):\n",
    "        if users_new.loc[i,\"generations\"] == n and users_new.loc[i,\"SIR\"] == 1:\n",
    "            y=users_new.loc[i,\"candidates\"]\n",
    "            for j in range(len(y)):\n",
    "                parents = users_new.loc[i,\"candidates\"][j]\n",
    "                if np.random.uniform(0,1) > infec and users_new.loc[parents,\"SIR\"] ==0:\n",
    "                    users_new.loc[parents,\"SIR\"] = 1\n",
    "                    users_new.loc[parents,\"generations\"] = n+1\n",
    "            users_new.loc[i,\"SIR\"]=2\n",
    "users_new.head()"
   ]
  },
  {
   "cell_type": "markdown",
   "metadata": {},
   "source": [
    "## Simulation"
   ]
  },
  {
   "cell_type": "code",
   "execution_count": 10,
   "metadata": {},
   "outputs": [
    {
     "data": {
      "text/plain": [
       "226984"
      ]
     },
     "execution_count": 10,
     "metadata": {},
     "output_type": "execute_result"
    }
   ],
   "source": [
    "data.shape[0]"
   ]
  },
  {
   "cell_type": "code",
   "execution_count": 11,
   "metadata": {},
   "outputs": [
    {
     "name": "stdout",
     "output_type": "stream",
     "text": [
      "<class 'pandas.core.frame.DataFrame'>\n",
      "Int64Index: 226984 entries, 0 to 46\n",
      "Data columns (total 74 columns):\n",
      "Nw_averageNeighborDegree                      226984 non-null float64\n",
      "Nw_averageNeighborDegree-1                    226984 non-null float64\n",
      "Nw_averageNeighborDegree0                     226984 non-null float64\n",
      "Nw_betweennessCentrality                      226984 non-null float64\n",
      "Nw_betweennessCentrality-1                    226984 non-null float64\n",
      "Nw_betweennessCentrality0                     226984 non-null float64\n",
      "Nw_closenessCentrality                        226984 non-null float64\n",
      "Nw_closenessCentrality-1                      226984 non-null float64\n",
      "Nw_closenessCentrality0                       226984 non-null float64\n",
      "Nw_degreeCentrality                           226984 non-null float64\n",
      "Nw_degreeCentrality-1                         226984 non-null float64\n",
      "Nw_degreeCentrality0                          226984 non-null float64\n",
      "Nw_eigenvectorCentrality                      226984 non-null float64\n",
      "Nw_eigenvectorCentrality-1                    226984 non-null float64\n",
      "Nw_eigenvectorCentrality0                     226984 non-null float64\n",
      "Nw_inDegreeCentrality                         226984 non-null float64\n",
      "Nw_inDegreeCentrality-1                       226984 non-null float64\n",
      "Nw_inDegreeCentrality0                        226984 non-null float64\n",
      "Nw_nNodes                                     226984 non-null int64\n",
      "Nw_outDegreeCentrality                        226984 non-null float64\n",
      "Nw_outDegreeCentrality-1                      226984 non-null float64\n",
      "Nw_outDegreeCentrality0                       226984 non-null float64\n",
      "Stat_average_deltaDays                        226984 non-null float64\n",
      "Stat_average_favouritesCount                  226984 non-null float64\n",
      "Stat_average_followersCount                   226984 non-null float64\n",
      "Stat_average_friendsCount                     226984 non-null float64\n",
      "Stat_average_kOut                             226984 non-null float64\n",
      "Stat_average_listedCount                      226984 non-null float64\n",
      "Stat_average_normalizedUserFavouritesCount    226984 non-null float64\n",
      "Stat_average_normalizedUserFollowersCount     226984 non-null float64\n",
      "Stat_average_normalizedUserFriendsCount       226984 non-null float64\n",
      "Stat_average_normalizedUserListedCount        226984 non-null float64\n",
      "Stat_average_normalizedUserStatusesCount      226984 non-null float64\n",
      "Stat_average_statusesCount                    226984 non-null float64\n",
      "Stat_average_t                                226984 non-null float64\n",
      "Stat_max_kOut                                 226984 non-null int64\n",
      "Stat_min_kOut                                 226984 non-null int64\n",
      "TwM_t-1                                       226984 non-null float64\n",
      "TwM_t0                                        226984 non-null float64\n",
      "TwM_tCurrent                                  226984 non-null int64\n",
      "UsM_deltaDays                                 226984 non-null int64\n",
      "UsM_deltaDays-1                               226984 non-null int64\n",
      "UsM_deltaDays0                                226984 non-null int64\n",
      "UsM_favouritesCount                           226984 non-null int64\n",
      "UsM_favouritesCount-1                         226984 non-null int64\n",
      "UsM_favouritesCount0                          226984 non-null int64\n",
      "UsM_followersCount                            226984 non-null int64\n",
      "UsM_followersCount-1                          226984 non-null int64\n",
      "UsM_followersCount0                           226984 non-null int64\n",
      "UsM_friendsCount                              226984 non-null int64\n",
      "UsM_friendsCount-1                            226984 non-null int64\n",
      "UsM_friendsCount0                             226984 non-null int64\n",
      "UsM_listedCount                               226984 non-null int64\n",
      "UsM_listedCount-1                             226984 non-null int64\n",
      "UsM_listedCount0                              226984 non-null int64\n",
      "UsM_normalizedUserFavouritesCount             226984 non-null float64\n",
      "UsM_normalizedUserFavouritesCount-1           226984 non-null float64\n",
      "UsM_normalizedUserFavouritesCount0            226984 non-null float64\n",
      "UsM_normalizedUserFollowersCount              226984 non-null float64\n",
      "UsM_normalizedUserFollowersCount-1            226984 non-null float64\n",
      "UsM_normalizedUserFollowersCount0             226984 non-null float64\n",
      "UsM_normalizedUserFriendsCount                226984 non-null float64\n",
      "UsM_normalizedUserFriendsCount-1              226984 non-null float64\n",
      "UsM_normalizedUserFriendsCount0               226984 non-null float64\n",
      "UsM_normalizedUserListedCount                 226984 non-null float64\n",
      "UsM_normalizedUserListedCount-1               226984 non-null float64\n",
      "UsM_normalizedUserListedCount0                226984 non-null float64\n",
      "UsM_normalizedUserStatusesCount               226984 non-null float64\n",
      "UsM_normalizedUserStatusesCount-1             226984 non-null float64\n",
      "UsM_normalizedUserStatusesCount0              226984 non-null float64\n",
      "UsM_statusesCount                             226984 non-null int64\n",
      "UsM_statusesCount-1                           226984 non-null int64\n",
      "UsM_statusesCount0                            226984 non-null int64\n",
      "label                                         226984 non-null int64\n",
      "dtypes: float64(51), int64(23)\n",
      "memory usage: 129.9 MB\n"
     ]
    }
   ],
   "source": [
    "new_data.info()"
   ]
  },
  {
   "cell_type": "code",
   "execution_count": 12,
   "metadata": {},
   "outputs": [
    {
     "data": {
      "text/plain": [
       "226984"
      ]
     },
     "execution_count": 12,
     "metadata": {},
     "output_type": "execute_result"
    }
   ],
   "source": [
    "valid_X = data.drop([\"label\",\"kOutMin\"],axis=1)\n",
    "valid_X\n",
    "infec = model.predict_proba(valid_X)\n",
    "infec[0:4]  #左闭右开 右大1左大0\n",
    "infected = []\n",
    "\n",
    "for line in infec:\n",
    "    if line[1]>0.5:\n",
    "        infected.append(1)\n",
    "    else:\n",
    "        infected.append(0)\n",
    "len(infected)"
   ]
  },
  {
   "cell_type": "code",
   "execution_count": 18,
   "metadata": {},
   "outputs": [
    {
     "ename": "TypeError",
     "evalue": "object of type 'float' has no len()",
     "output_type": "error",
     "traceback": [
      "\u001b[0;31m---------------------------------------------------------------------------\u001b[0m",
      "\u001b[0;31mTypeError\u001b[0m                                 Traceback (most recent call last)",
      "\u001b[0;32m<ipython-input-18-bcf744b125b2>\u001b[0m in \u001b[0;36m<module>\u001b[0;34m()\u001b[0m\n\u001b[0;32m----> 1\u001b[0;31m \u001b[0mlen\u001b[0m\u001b[0;34m(\u001b[0m\u001b[0minfec\u001b[0m\u001b[0;34m)\u001b[0m\u001b[0;34m\u001b[0m\u001b[0m\n\u001b[0m",
      "\u001b[0;31mTypeError\u001b[0m: object of type 'float' has no len()"
     ]
    }
   ],
   "source": [
    "len(infec)"
   ]
  },
  {
   "cell_type": "code",
   "execution_count": 14,
   "metadata": {},
   "outputs": [
    {
     "name": "stdout",
     "output_type": "stream",
     "text": [
      "235517\n"
     ]
    },
    {
     "ename": "IndexError",
     "evalue": "list index out of range",
     "output_type": "error",
     "traceback": [
      "\u001b[0;31m---------------------------------------------------------------------------\u001b[0m",
      "\u001b[0;31mIndexError\u001b[0m                                Traceback (most recent call last)",
      "\u001b[0;32m<ipython-input-14-09d806b3ede5>\u001b[0m in \u001b[0;36m<module>\u001b[0;34m()\u001b[0m\n\u001b[1;32m     22\u001b[0m                 \u001b[0mlocate\u001b[0m \u001b[0;34m=\u001b[0m \u001b[0mn\u001b[0m\u001b[0;34m+\u001b[0m\u001b[0;36m47\u001b[0m\u001b[0;34m*\u001b[0m\u001b[0;36m5011\u001b[0m\u001b[0;34m\u001b[0m\u001b[0m\n\u001b[1;32m     23\u001b[0m                 \u001b[0mprint\u001b[0m\u001b[0;34m(\u001b[0m\u001b[0mlocate\u001b[0m\u001b[0;34m)\u001b[0m\u001b[0;34m\u001b[0m\u001b[0m\n\u001b[0;32m---> 24\u001b[0;31m                 \u001b[0;32mif\u001b[0m \u001b[0minfected\u001b[0m\u001b[0;34m[\u001b[0m\u001b[0mlocate\u001b[0m\u001b[0;34m]\u001b[0m\u001b[0;34m==\u001b[0m\u001b[0;36m1\u001b[0m \u001b[0;34m:\u001b[0m\u001b[0;34m\u001b[0m\u001b[0m\n\u001b[0m\u001b[1;32m     25\u001b[0m                     \u001b[0musers_new\u001b[0m\u001b[0;34m.\u001b[0m\u001b[0mloc\u001b[0m\u001b[0;34m[\u001b[0m\u001b[0mparents\u001b[0m\u001b[0;34m,\u001b[0m\u001b[0;34m\"SIR\"\u001b[0m\u001b[0;34m]\u001b[0m \u001b[0;34m=\u001b[0m \u001b[0;36m1\u001b[0m\u001b[0;34m\u001b[0m\u001b[0m\n\u001b[1;32m     26\u001b[0m                     \u001b[0musers_new\u001b[0m\u001b[0;34m.\u001b[0m\u001b[0mloc\u001b[0m\u001b[0;34m[\u001b[0m\u001b[0mparents\u001b[0m\u001b[0;34m,\u001b[0m\u001b[0;34m\"generations\"\u001b[0m\u001b[0;34m]\u001b[0m \u001b[0;34m=\u001b[0m \u001b[0mn\u001b[0m\u001b[0;34m+\u001b[0m\u001b[0;36m1\u001b[0m\u001b[0;34m\u001b[0m\u001b[0m\n",
      "\u001b[0;31mIndexError\u001b[0m: list index out of range"
     ]
    }
   ],
   "source": [
    "users_new = pd.DataFrame(columns=[\"user\",\"candidates\",\"SIR\",\"generations\"])\n",
    "users_new[\"user\"] = users[\"user\"]\n",
    "users_new[\"candidates\"] = users[\"source_candidates\"]\n",
    "users_new[\"SIR\"] =0\n",
    "users_new.head()\n",
    "\n",
    "#set 0,2,3 as seeds\n",
    "#in SIR,0=uninfected, 1=infected, 2=immunity\n",
    "N= 47\n",
    "users_new.loc[0,\"SIR\"]= 1\n",
    "users_new.loc[0,\"generations\"]=0\n",
    "users_new.loc[2,\"SIR\"]= 1\n",
    "users_new.loc[2,\"generations\"]=0\n",
    "users_new.loc[3,\"SIR\"]= 1\n",
    "users_new.loc[3,\"generations\"]=0\n",
    "for n in range(N):\n",
    "    for i in range(record_num):\n",
    "        if users_new.loc[i,\"generations\"] == n and users_new.loc[i,\"SIR\"] == 1:\n",
    "            y=users_new.loc[i,\"candidates\"]\n",
    "            for j in range(len(y)):\n",
    "                parents = users_new.loc[i,\"candidates\"][j]\n",
    "                locate = n+47*5011\n",
    "                print(locate)\n",
    "                if infected[locate]==1 :\n",
    "                    users_new.loc[parents,\"SIR\"] = 1\n",
    "                    users_new.loc[parents,\"generations\"] = n+1\n",
    "            users_new.loc[i,\"SIR\"]=2\n",
    "users_new.head(20)"
   ]
  },
  {
   "cell_type": "markdown",
   "metadata": {},
   "source": [
    "##  SIR_MODEL"
   ]
  },
  {
   "cell_type": "code",
   "execution_count": null,
   "metadata": {},
   "outputs": [],
   "source": [
    "#### SIR_MODEL #### \n",
    "beta=1.6667\n",
    "gamma=1\n",
    "TS=1.0\n",
    "ND=40.0\n",
    "S0=1-1e-6\n",
    "I0=1e-6\n",
    "INPUT = (S0, I0, 0.0)\n",
    " \n",
    "def diff_eqs(INP,t):\n",
    "    '''The main set of equations'''\n",
    "    Y=np.zeros((3))\n",
    "    V = INP\n",
    "    Y[0] = - beta * V[0] * V[1]\n",
    "    Y[1] = beta * V[0] * V[1] - gamma * V[1]\n",
    "    Y[2] = gamma * V[1]\n",
    "    return Y   # For odeint\n",
    " \n",
    "t_start = 0.0; t_end = ND; t_inc = TS\n",
    "t_range = np.arange(t_start, t_end+t_inc, t_inc)\n",
    "RES = spi.odeint(diff_eqs,INPUT,t_range)\n",
    " \n",
    "#print(RES)\n",
    " \n",
    "#Ploting\n",
    "pl.subplot(111)\n",
    "pl.plot(RES[:,1], '-r', label='Infectious')\n",
    "pl.plot(RES[:,0], '-g', label='Susceptibles')\n",
    "pl.plot(RES[:,2], '-k', label='Recovereds')\n",
    "pl.legend(loc=0)\n",
    "pl.title('SIR_Model.py')\n",
    "pl.xlabel('Time')\n",
    "pl.ylabel('Infectious Susceptibles and Recovereds')\n",
    "pl.show()\n",
    "\n",
    "    "
   ]
  },
  {
   "cell_type": "code",
   "execution_count": null,
   "metadata": {
    "collapsed": true
   },
   "outputs": [],
   "source": []
  },
  {
   "cell_type": "code",
   "execution_count": null,
   "metadata": {
    "collapsed": true
   },
   "outputs": [],
   "source": []
  }
 ],
 "metadata": {
  "kernelspec": {
   "display_name": "Python 3",
   "language": "python",
   "name": "python3"
  },
  "language_info": {
   "codemirror_mode": {
    "name": "ipython",
    "version": 3
   },
   "file_extension": ".py",
   "mimetype": "text/x-python",
   "name": "python",
   "nbconvert_exporter": "python",
   "pygments_lexer": "ipython3",
   "version": "3.6.6"
  }
 },
 "nbformat": 4,
 "nbformat_minor": 2
}
