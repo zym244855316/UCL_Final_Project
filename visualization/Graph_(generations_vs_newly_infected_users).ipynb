{
 "cells": [
  {
   "cell_type": "code",
   "execution_count": 1,
   "metadata": {},
   "outputs": [
    {
     "name": "stdout",
     "output_type": "stream",
     "text": [
      "/Users/maimai/Desktop/project/May\n"
     ]
    }
   ],
   "source": [
    "%cd .."
   ]
  },
  {
   "cell_type": "code",
   "execution_count": 2,
   "metadata": {},
   "outputs": [
    {
     "name": "stdout",
     "output_type": "stream",
     "text": [
      "('Reading config file from location: '\n",
      " '/Users/maimai/Desktop/project/May/configuration/env.properties')\n",
      "{'calculate': {'analysis': True,\n",
      "               'network': True,\n",
      "               'uniquetweets': True,\n",
      "               'uniqueusers': True},\n",
      " 'data': {'dates': ['2018-03-11', '2018-03-12', '2018-03-13'],\n",
      "          'eventname': \"Givenchy's Death\",\n",
      "          'phrases': ['givenchy%20death', 'givenchy%20passed%20away'],\n",
      "          'starttime': 'Mar 12 08:20:00 -0500 2018'},\n",
      " 'path': {'crawl': {'followers': '/Users/maimai/Desktop/project/May/followers',\n",
      "                    'friends': '/Users/maimai/Desktop/project/May/friends'},\n",
      "          'cwd': '/Users/maimai/Desktop/project/May/data/givenchy',\n",
      "          'ml': '/Users/maimai/Desktop/project/May/data/givenchy/pickle',\n",
      "          'networkx': {'all': '/Users/maimai/Desktop/project/May/data/givenchy/pickle/networkx_all.dat',\n",
      "                       'friends': '/Users/maimai/Desktop/project/May/data/givenchy/pickle/networkx_friends.dat',\n",
      "                       'potential': '/Users/maimai/Desktop/project/May/data/givenchy/pickle/networkx_potential.dat'},\n",
      "          'pickle': {'exposed_user_ids_selected': '/Users/maimai/Desktop/project/May/data/givenchy/pickle/exposed_user_ids_selected.dat',\n",
      "                     'followers': '/Users/maimai/Desktop/project/May/data/givenchy/pickle/followers.dat',\n",
      "                     'followersneedcrawl': '/Users/maimai/Desktop/project/May/data/givenchy/pickle/followersneedcrawl.dat',\n",
      "                     'friends': '/Users/maimai/Desktop/project/May/data/givenchy/pickle/friends.dat',\n",
      "                     'infected_user_ids': '/Users/maimai/Desktop/project/May/data/givenchy/pickle/infected_user_ids.dat',\n",
      "                     'needcrawl': '/Users/maimai/Desktop/project/May/data/givenchy/pickle/needcrawl.dat',\n",
      "                     'network': '/Users/maimai/Desktop/project/May/data/givenchy/pickle/network.dat',\n",
      "                     'tweets': '/Users/maimai/Desktop/project/May/data/givenchy/pickle/tweets.dat',\n",
      "                     'users': '/Users/maimai/Desktop/project/May/data/givenchy/pickle/users.dat'},\n",
      "          'result': '/Users/maimai/Desktop/project/May/data/givenchy/result',\n",
      "          'twitter': '/Users/maimai/Desktop/project/May/data/givenchy/twitter'},\n",
      " 'save_to_file': 'False',\n",
      " 'timeframe': '1440'}\n",
      "/Users/maimai/Desktop/project/May/data/givenchy/pickle\n"
     ]
    }
   ],
   "source": [
    "import builtins\n",
    "builtins.uclresearch_topic = 'GIVENCHY'\n",
    "# builtins.uclresearch_topic = 'HAWKING'\n",
    "# builtins.uclresearch_topic = 'NYC'\n",
    "# builtins.uclresearch_topic = 'FLORIDA'\n",
    "from configuration import config\n",
    "from configuration import dzcnapy_plotlib as dzcnapy\n",
    "\n",
    "import pickle\n",
    "import numpy as np\n",
    "import pandas as pd\n",
    "import os\n",
    "import os.path\n",
    "import seaborn as sns\n",
    "import matplotlib\n",
    "import matplotlib.pyplot as plt\n",
    "import matplotlib.patches as mpatches\n",
    "\n",
    "# project_name = 'Givenchy_histogram'\n"
   ]
  },
  {
   "cell_type": "code",
   "execution_count": 3,
   "metadata": {
    "collapsed": true
   },
   "outputs": [],
   "source": [
    "n_bytes = 2**31\n",
    "max_bytes = 2**31 - 1\n",
    "\n",
    "path = \"/Users/maimai/Desktop/project/May/data/givenchy/pickle\"  \n",
    "\n",
    "def write_to_pickle(file_path, data):\n",
    "\n",
    "    bytes_out = pickle.dumps(data)\n",
    "    with open(file_path, 'wb') as f_out:\n",
    "        for idx in range(0, n_bytes, max_bytes):\n",
    "            f_out.write(bytes_out[idx:idx+max_bytes])\n",
    "\n",
    "def load_pickle(file_path):\n",
    "    bytes_in = bytearray(0)\n",
    "    input_size = os.path.getsize(file_path)\n",
    "    with open(file_path, 'rb') as f_in:\n",
    "        for _ in range(0, input_size, max_bytes):\n",
    "            bytes_in += f_in.read(max_bytes)\n",
    "    return pickle.loads(bytes_in)\n",
    "\n",
    "def loadModel(self):\n",
    "    read_file = \"data/\" + self.model_name + \".dat\"\n",
    "    self.model = joblib.load(read_file)\n",
    "    return self.model\n"
   ]
  },
  {
   "cell_type": "code",
   "execution_count": 4,
   "metadata": {
    "collapsed": true
   },
   "outputs": [],
   "source": [
    "################# 10 cases ###################\n",
    "################# 10 cases ###################\n",
    "A_single = load_pickle(path+'/Stanford_network_simulation_0.6_a.pkl')\n",
    "B_sequential = load_pickle(path+'/Stanford_network_simulation_0.6_b_new.pkl')\n",
    "C_sequential = load_pickle(path+'/Stanford_network_simulation_0.6_c_new.pkl')\n",
    "\n",
    "Cen_Degree = load_pickle(path+'/Stanford_network_simulation_Degree_5.pkl')\n",
    "Cen_Betweenness = load_pickle(path+'/Stanford_network_simulation_betweenness_5.pkl')\n",
    "Cen_Eigencentrality = load_pickle(path+'/Stanford_network_simulation_eigencentrality_5.pkl')\n",
    "\n",
    "Active_low = load_pickle(path+'/Stanford_network_simulation_active_low.pkl')\n",
    "Active_high = load_pickle(path+'/Stanford_network_simulation_active_high.pkl')\n",
    "\n",
    "Dynamic = load_pickle(path+'/Stanford_network_simulation_Dynamic.pkl')\n",
    "### 9 ###\n",
    "Active_mid = load_pickle(path+'/Stanford_network_simulation_active_mid.pkl')\n",
    "### 10 ###\n",
    "Combined = load_pickle(path+'/Stanford_network_simulation_Combined.pkl')\n",
    "\n",
    "unique_users = [A_single, B_sequential, C_sequential,   \n",
    "                Cen_Degree, Cen_Betweenness, Cen_Eigencentrality,\n",
    "                Active_low,Active_high,\n",
    "                Dynamic, Active_mid, Combined]\n",
    "# len(A_single[A_single.generations.isin([7])])"
   ]
  },
  {
   "cell_type": "code",
   "execution_count": null,
   "metadata": {
    "collapsed": true
   },
   "outputs": [],
   "source": []
  },
  {
   "cell_type": "code",
   "execution_count": 5,
   "metadata": {
    "collapsed": true
   },
   "outputs": [],
   "source": [
    "def get_colors(depth):\n",
    "    return sns.cubehelix_palette(depth, start=3, rot=1, reverse=True)\n",
    "    sns.palplot(color)\n"
   ]
  },
  {
   "cell_type": "code",
   "execution_count": 6,
   "metadata": {},
   "outputs": [],
   "source": [
    "####################### measure 1 ##########################\n",
    "####################### measure 1 ##########################\n",
    "# def plot_time_lapsed_vs_newly_infected_users(unique_users):\n",
    "#     depth = max(unique_users.generations) + 1\n",
    "#     window = 1\n",
    "#     timeframe = 11\n",
    "#     d = pd.DataFrame(0, index=np.arange(int(timeframe)/window), columns=range(depth))\n",
    "#     for i in range(int(int(timeframe)/window)):\n",
    "#         data = unique_users[(unique_users.generations >= (i)) & (unique_users.generations < (i+1))]\n",
    "#         for generation in range(depth):\n",
    "#             d.iloc[i, generation] = sum(data.generations == generation)\n",
    "#     colors = get_colors(depth)\n",
    "#     print(d)\n",
    "#     ax = d.plot.bar(\n",
    "#         stacked=True, \n",
    "#         color = colors\n",
    "#     );\n",
    "#     for j in range(11):\n",
    "#         b=d[j][j]\n",
    "#         print(b)\n",
    "#         plt.text(j, b, b, ha='center', va= 'bottom',fontsize=22)\n",
    "    \n",
    "#     ax.set_xticks(range(11))\n",
    "#     ax.set_xticklabels([i for i in range(11)])\n",
    "#     ax.set_xlabel('generations')\n",
    "#     ax.set_ylabel('totol number of infected users')\n",
    "#     patchList = []\n",
    "#     for index in range(depth):\n",
    "#         data_key = mpatches.Patch(color=colors[index], label='Generation {}'.format(index))\n",
    "#         patchList.append(data_key)\n",
    "#     plt.legend(handles=patchList)\n",
    "#     dzcnapy.plot(title, [15, 9], save=True)\n",
    "    \n",
    "# for i in range(9,10):\n",
    "#     title_name = [\"graph/Generation_A_single\", \"graph/Generation_B_sequential\", \"graph/Generation_C_sequential\",\n",
    "#         \"graph/Generation_Cen_Degree\", \"graph/Generation_Cen_Betweenness\", \"graph/Generation_Cen_Eigencentrality\",\n",
    "#         \"graph/Generation_Active_low\",\"graph/Generation_Active_high\",\"graph/Generation_Dynamic\",\"graph/Generation_Active_mid\"]\n",
    "#     title = title_name[i]\n",
    "#     x=[t for t in range(0,300)]\n",
    "#     unique=unique_users[i][unique_users[i].time_lapsed.isin(x)]\n",
    "#     plot_time_lapsed_vs_newly_infected_users(unique)"
   ]
  },
  {
   "cell_type": "code",
   "execution_count": 7,
   "metadata": {
    "collapsed": true
   },
   "outputs": [],
   "source": [
    "# def plot_time_lapsed_vs_newly_infected_users(unique_users):\n",
    "#     depth = max(unique_users.generations) + 1\n",
    "#     window = 1\n",
    "#     timeframe = 5\n",
    "#     d = pd.DataFrame(0, index=np.arange(int(timeframe)/window), columns=range(depth))\n",
    "#     for i in range(int(int(timeframe)/window)):\n",
    "#         data = unique_users[(unique_users.generations >= (i)) & (unique_users.generations < (i+1))]\n",
    "#         for generation in range(depth):\n",
    "#             d.iloc[i, generation] = sum(data.generations == generation)\n",
    "# #             if generation == 0:\n",
    "# #                 d.iloc[0, generation] = 5\n",
    "#     colors = get_colors(depth)\n",
    "#     print(d)\n",
    "#     ax = d.plot.bar(\n",
    "#         stacked=True, \n",
    "#         color = colors\n",
    "#     );\n",
    "#     for j in range(5):\n",
    "#         b=d[j][j]\n",
    "#         print(b)\n",
    "#         plt.text(j, b, b, ha='center', va= 'bottom',fontsize=22)\n",
    "    \n",
    "#     ax.set_xticks(range(5))\n",
    "#     ax.set_xticklabels([i for i in range(5)])\n",
    "#     ax.set_xlabel('generations')\n",
    "#     ax.set_ylabel('totol number of infected users')\n",
    "#     patchList = []\n",
    "#     for index in range(depth):\n",
    "#         data_key = mpatches.Patch(color=colors[index], label='Generation {}'.format(index))\n",
    "#         patchList.append(data_key)\n",
    "#     plt.legend(handles=patchList)\n",
    "#     dzcnapy.plot(title, [15, 9], save=True)\n",
    "    \n",
    "# for i in range(3,5):\n",
    "#     title_name = [\"graph/Generation_A_single\", \"graph/Generation_B_sequential\", \"graph/Generation_C_sequential\",\n",
    "#         \"graph/Generation_Cen_Degree\", \"graph/Generation_Cen_Betweenness\", \"graph/Generation_Cen_Eigencentrality\",\n",
    "#         \"graph/Generation_Active_low\",\"graph/Generation_Active_high\"]\n",
    "#     title = title_name[i]\n",
    "#     x=[t for t in range(0,300)]\n",
    "#     unique=unique_users[i][unique_users[i].time_lapsed.isin(x)]\n",
    "#     plot_time_lapsed_vs_newly_infected_users(unique)"
   ]
  },
  {
   "cell_type": "code",
   "execution_count": 8,
   "metadata": {},
   "outputs": [
    {
     "name": "stdout",
     "output_type": "stream",
     "text": [
      "      0     1     2      3      4     5\n",
      "0.0  20     0     0      0      0     0\n",
      "1.0   0  1137     0      0      0     0\n",
      "2.0   0     0  5619      0      0     0\n",
      "3.0   0     0     0  14149      0     0\n",
      "4.0   0     0     0      0  12776     0\n",
      "5.0   0     0     0      0      0  4389\n",
      "20\n",
      "1137\n",
      "5619\n",
      "14149\n",
      "12776\n",
      "4389\n"
     ]
    },
    {
     "data": {
      "image/png": "[encoded data removed]",
      "text/plain": [
       "<matplotlib.figure.Figure at 0x1a6b909e48>"
      ]
     },
     "metadata": {},
     "output_type": "display_data"
    }
   ],
   "source": [
    "def plot_time_lapsed_vs_newly_infected_users(unique_users):\n",
    "    depth = max(unique_users.generations) + 1\n",
    "    window = 1\n",
    "    timeframe = 6\n",
    "    d = pd.DataFrame(0, index=np.arange(int(timeframe)/window), columns=range(depth))\n",
    "    for i in range(int(int(timeframe)/window)):\n",
    "        data = unique_users[(unique_users.generations >= (i)) & (unique_users.generations < (i+1))]\n",
    "        for generation in range(depth):\n",
    "            d.iloc[i, generation] = sum(data.generations == generation)\n",
    "#             if generation ==5:\n",
    "#                 d.iloc[5, generation] = sum(data.generations == generation)-5\n",
    "    colors = get_colors(depth)\n",
    "    print(d)\n",
    "    ax = d.plot.bar(\n",
    "        stacked=True, \n",
    "        color = colors\n",
    "    );\n",
    "    for j in range(6):\n",
    "        b=d[j][j]\n",
    "        print(b)\n",
    "        plt.text(j, b, b, ha='center', va= 'bottom',fontsize=22)\n",
    "    \n",
    "    ax.set_xticks(range(6))\n",
    "    ax.set_xticklabels([i for i in range(6)])\n",
    "    ax.set_xlabel('generations')\n",
    "    ax.set_ylabel('totol number of infected users')\n",
    "    patchList = []\n",
    "    for index in range(depth):\n",
    "        data_key = mpatches.Patch(color=colors[index], label='Generation {}'.format(index))\n",
    "        patchList.append(data_key)\n",
    "    plt.legend(handles=patchList)\n",
    "    dzcnapy.plot(title, [15, 9], save=True)\n",
    "    \n",
    "for i in range(10,11):\n",
    "    title_name = [\"graph/Generation_A_single\", \"graph/Generation_B_sequential\", \"graph/Generation_C_sequential\",\n",
    "        \"graph/Generation_Cen_Degree\", \"graph/Generation_Cen_Betweenness\", \"graph/Generation_Cen_Eigencentrality\",\n",
    "        \"graph/Generation_Active_low\",\"graph/Generation_Active_high\",\"graph/Generation_Dynamic\",\"graph/Generation_Active_mid\",\n",
    "                 \"graph/Generation_Combined\"]\n",
    "    title = title_name[i]\n",
    "    x=[t for t in range(0,300)]\n",
    "    unique=unique_users[i][unique_users[i].time_lapsed.isin(x)]\n",
    "#     print(len(unique))\n",
    "    plot_time_lapsed_vs_newly_infected_users(unique)"
   ]
  },
  {
   "cell_type": "code",
   "execution_count": 9,
   "metadata": {
    "collapsed": true
   },
   "outputs": [],
   "source": [
    "# for i in range(0,6):\n",
    "#     count = len(unique_users[unique_users.generations.isin([i])])\n",
    "#     print(count)\n",
    "\n",
    "# time = unique_users['time_lapsed'].unique()\n",
    "# time"
   ]
  },
  {
   "cell_type": "code",
   "execution_count": 10,
   "metadata": {
    "collapsed": true
   },
   "outputs": [],
   "source": [
    "# ######################## measure 2 ##########################\n",
    "# ######################## measure 2 ##########################\n",
    "# from scipy.interpolate import spline\n",
    "# with plt.style.context(('ggplot')):\n",
    "#     plt.figure(figsize=(5,4))\n",
    "# #     x=np.linspace(30,150,5)\n",
    "#     x=np.linspace(30,150,5)\n",
    "#     y=[5,865,4290,8175,6832]\n",
    "    \n",
    "#     xnew = np.linspace(x.min(),x.max(),300)\n",
    "#     power_smooth = spline(x,y,xnew)\n",
    "#     plt.plot(xnew,power_smooth,color='green',label='Degree')\n",
    "\n",
    "#     #     ax.plot(rf.FPR, rf.TPR, color = 'red', label = 'RF: '+str(rf.AUC))\n",
    "#     #     ax.plot(lr.FPR, lr.TPR, color = 'black', label = 'LR: '+str(lr.AUC))\n",
    "    \n",
    "#     plt.xlabel('Time (min)')\n",
    "#     plt.ylabel('The number of infected nodes')\n",
    "#     plt.legend(loc='lower right')\n",
    "#     #plt.title(\"ROC against different CTR models\")\n",
    "\n",
    "#     plt.show()\n",
    "#     #     plt.savefig(\"models.png\")"
   ]
  },
  {
   "cell_type": "code",
   "execution_count": null,
   "metadata": {
    "collapsed": true
   },
   "outputs": [],
   "source": []
  },
  {
   "cell_type": "code",
   "execution_count": 11,
   "metadata": {
    "collapsed": true
   },
   "outputs": [],
   "source": [
    "# Cen_Degree[Cen_Degree.generations.isin([0,1,2,3,4,5])]"
   ]
  },
  {
   "cell_type": "code",
   "execution_count": null,
   "metadata": {
    "collapsed": true
   },
   "outputs": [],
   "source": []
  },
  {
   "cell_type": "code",
   "execution_count": null,
   "metadata": {
    "collapsed": true
   },
   "outputs": [],
   "source": []
  }
 ],
 "metadata": {
  "kernelspec": {
   "display_name": "Python 3",
   "language": "python",
   "name": "python3"
  },
  "language_info": {
   "codemirror_mode": {
    "name": "ipython",
    "version": 3
   },
   "file_extension": ".py",
   "mimetype": "text/x-python",
   "name": "python",
   "nbconvert_exporter": "python",
   "pygments_lexer": "ipython3",
   "version": "3.6.2"
  }
 },
 "nbformat": 4,
 "nbformat_minor": 2
}
